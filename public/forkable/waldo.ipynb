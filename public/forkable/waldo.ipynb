{
 "cells": [
  {
   "cell_type": "markdown",
   "metadata": {},
   "source": [
    "# Computing the optimal path for finding Waldo"
   ]
  },
  {
   "cell_type": "markdown",
   "metadata": {},
   "source": [
    "This notebook provides the methodology and code used in the blog post, [Here’s Waldo: Computing the optimal search strategy for finding Waldo](http://www.randalolson.com/2015/02/03/heres-waldo-computing-the-optimal-search-strategy-for-finding-waldo/).\n",
    "\n",
    "### Notebook by [Randal S. Olson](http://www.randalolson.com/)\n",
    "\n",
    "Please see the [repository README file](https://github.com/rhiever/Data-Analysis-and-Machine-Learning-Projects#license) for the licenses and usage terms for the instructional material and code in this notebook. In general, I have licensed this material so that it is widely useable and shareable as possible."
   ]
  },
  {
   "cell_type": "markdown",
   "metadata": {},
   "source": [
    "### Read the data into a pandas DataFrame"
   ]
  },
  {
   "cell_type": "markdown",
   "metadata": {},
   "source": [
    "Since we already have all 68 locations of Waldo from [Slate](http://www.slate.com/content/dam/slate/articles/arts/culturebox/2013/11/131111_heresWaldo920_1.jpg.CROP.original-original.jpg), we can jump right into analyzing them. "
   ]
  },
  {
   "cell_type": "markdown",
   "metadata": {},
   "source": [
    "DOC: Leave 3rd import below commented out until dataframe is loaded. Then uncomment the line for the rest of the notebook to load"
   ]
  },
  {
   "cell_type": "markdown",
   "metadata": {},
   "source": [
    "DOC: Opening the notebook with the three imports uncommented makes the livebook freeze/crash"
   ]
  },
  {
   "cell_type": "code",
   "execution_count": null,
   "metadata": {
    "collapsed": true
   },
   "outputs": [],
   "source": [
    "import matplotlib.pyplot as plt\n",
    "import pandas as pd\n",
    "#import math, random"
   ]
  },
  {
   "cell_type": "code",
   "execution_count": 1,
   "metadata": {
    "collapsed": false
   },
   "outputs": [
    {
     "data": {
      "text/html": [
       "<div>\n",
       "<table border=\"1\" class=\"dataframe\">\n",
       "  <thead>\n",
       "    <tr style=\"text-align: right;\">\n",
       "      <th></th>\n",
       "      <th>Book</th>\n",
       "      <th>Page</th>\n",
       "      <th>X</th>\n",
       "      <th>Y</th>\n",
       "    </tr>\n",
       "  </thead>\n",
       "  <tbody>\n",
       "    <tr>\n",
       "      <th>count</th>\n",
       "      <td>68.000000</td>\n",
       "      <td>68.000000</td>\n",
       "      <td>68.000000</td>\n",
       "      <td>68.000000</td>\n",
       "    </tr>\n",
       "    <tr>\n",
       "      <th>mean</th>\n",
       "      <td>3.514706</td>\n",
       "      <td>6.058824</td>\n",
       "      <td>6.700776</td>\n",
       "      <td>3.875306</td>\n",
       "    </tr>\n",
       "    <tr>\n",
       "      <th>std</th>\n",
       "      <td>1.856756</td>\n",
       "      <td>3.411492</td>\n",
       "      <td>3.703276</td>\n",
       "      <td>1.941349</td>\n",
       "    </tr>\n",
       "    <tr>\n",
       "      <th>min</th>\n",
       "      <td>1.000000</td>\n",
       "      <td>1.000000</td>\n",
       "      <td>0.625000</td>\n",
       "      <td>0.333333</td>\n",
       "    </tr>\n",
       "    <tr>\n",
       "      <th>25%</th>\n",
       "      <td>2.000000</td>\n",
       "      <td>3.000000</td>\n",
       "      <td>3.513889</td>\n",
       "      <td>2.250000</td>\n",
       "    </tr>\n",
       "    <tr>\n",
       "      <th>50%</th>\n",
       "      <td>3.000000</td>\n",
       "      <td>6.000000</td>\n",
       "      <td>6.694444</td>\n",
       "      <td>3.927083</td>\n",
       "    </tr>\n",
       "    <tr>\n",
       "      <th>75%</th>\n",
       "      <td>5.000000</td>\n",
       "      <td>9.000000</td>\n",
       "      <td>10.062500</td>\n",
       "      <td>5.291667</td>\n",
       "    </tr>\n",
       "    <tr>\n",
       "      <th>max</th>\n",
       "      <td>7.000000</td>\n",
       "      <td>12.000000</td>\n",
       "      <td>12.444444</td>\n",
       "      <td>7.708333</td>\n",
       "    </tr>\n",
       "  </tbody>\n",
       "</table>\n",
       "</div>"
      ],
      "text/plain": [
       "            Book       Page          X          Y\n",
       "count  68.000000  68.000000  68.000000  68.000000\n",
       "mean    3.514706   6.058824   6.700776   3.875306\n",
       "std     1.856756   3.411492   3.703276   1.941349\n",
       "min     1.000000   1.000000   0.625000   0.333333\n",
       "25%     2.000000   3.000000   3.513889   2.250000\n",
       "50%     3.000000   6.000000   6.694444   3.927083\n",
       "75%     5.000000   9.000000  10.062500   5.291667\n",
       "max     7.000000  12.000000  12.444444   7.708333"
      ]
     },
     "execution_count": 1,
     "metadata": {},
     "output_type": "execute_result"
    }
   ],
   "source": [
    "wheres_waldo_locations = pd.read_csv(\"waldo-locations.csv\")\n",
    "wheres_waldo_locations.describe()"
   ]
  },
  {
   "cell_type": "markdown",
   "metadata": {},
   "source": [
    "### Plot the dots according to the book they came from"
   ]
  },
  {
   "cell_type": "markdown",
   "metadata": {},
   "source": [
    "The first basic visualization that we can make is to plot all of the points according to the book that they came from.\n",
    "\n",
    "The dashed line in the center represents the crease of the book, as \"Where's Waldo\" illustrations always stretched over two pages."
   ]
  },
  {
   "cell_type": "code",
   "execution_count": 3,
   "metadata": {
    "collapsed": false
   },
   "outputs": [],
   "source": [
    "plt.scatter(wheres_waldo_locations.X, wheres_waldo_locations.Y)"
   ]
  },
  {
   "cell_type": "markdown",
   "metadata": {},
   "source": [
    "### Genetic Algorithm"
   ]
  },
  {
   "cell_type": "markdown",
   "metadata": {},
   "source": [
    "Now on to the real fun! I decided to approach this problem as a [traveling salesman problem](http://en.wikipedia.org/wiki/Travelling_salesman_problem): We need to check every possible location that Waldo could be at while taking as little time as possible. That means we need to cover as much ground as possible without any backtracking.\n",
    "\n",
    "In computer terms, that means we’re making a list of all 68 points that Waldo could be at, then sorting them based on the order that we’re going to visit them. We can use a [genetic algorithm](http://en.wikipedia.org/wiki/Genetic_algorithm) (GA) to try out hundreds of possible arrangements and continually build upon the best ones. Note that because GAs are stochastic, the end result will not always be the same each time you run it."
   ]
  },
  {
   "cell_type": "markdown",
   "metadata": {},
   "source": [
    "#### Reorganize the DataFrame Xs and Ys into a lookup table"
   ]
  },
  {
   "cell_type": "markdown",
   "metadata": {},
   "source": [
    "Constantly looking up values in a DataFrame is quite slow, so it's better to use a dictionary."
   ]
  },
  {
   "cell_type": "code",
   "execution_count": 4,
   "metadata": {
    "collapsed": true
   },
   "outputs": [],
   "source": [
    "waldo_location_map = {}\n",
    "\n",
    "for i, record in wheres_waldo_locations.iterrows():\n",
    "    key = \"B%dP%d\" % (record.Book, record.Page)\n",
    "    waldo_location_map[key] = (record.X, record.Y)"
   ]
  },
  {
   "cell_type": "markdown",
   "metadata": {
    "collapsed": false
   },
   "source": [
    "#### Basic functions for the Genetic Algorithm"
   ]
  },
  {
   "cell_type": "code",
   "execution_count": 13,
   "metadata": {
    "collapsed": false
   },
   "outputs": [],
   "source": [
    "def calculate_distance(x1, y1, x2, y2):\n",
    "    \"\"\"\n",
    "        Returns the Euclidean distance between points (x1, y1) and (x2, y2)\n",
    "    \"\"\"\n",
    "    return math.sqrt( (x2 - x1)**2 + (y2 - y1)**2 )"
   ]
  },
  {
   "cell_type": "markdown",
   "metadata": {},
   "source": [
    "This function works:"
   ]
  },
  {
   "cell_type": "code",
   "execution_count": 14,
   "metadata": {
    "collapsed": false
   },
   "outputs": [
    {
     "data": {
      "text/plain": [
       "1.4142135623730951"
      ]
     },
     "execution_count": 14,
     "metadata": {},
     "output_type": "execute_result"
    }
   ],
   "source": [
    "calculate_distance(0, 0, 1, 1)"
   ]
  },
  {
   "cell_type": "code",
   "execution_count": 15,
   "metadata": {
    "collapsed": true
   },
   "outputs": [],
   "source": [
    "def compute_fitness(solution):\n",
    "    \"\"\"\n",
    "        Computes the distance that the Waldo-seeking solution covers.\n",
    "        \n",
    "        Lower distance is better, so the GA should try to minimize this function.\n",
    "    \"\"\"\n",
    "    solution_fitness = 0.0\n",
    "    \n",
    "    for index in range(1, len(solution)):\n",
    "        w1 = solution[index]\n",
    "        w2 = solution[index - 1]\n",
    "        solution_fitness += calculate_distance(waldo_location_map[w1][0], waldo_location_map[w1][1],\n",
    "                                               waldo_location_map[w2][0], waldo_location_map[w2][1])\n",
    "        \n",
    "    return solution_fitness"
   ]
  },
  {
   "cell_type": "code",
   "execution_count": 17,
   "metadata": {
    "collapsed": true
   },
   "outputs": [],
   "source": [
    "def generate_random_agent():\n",
    "    \"\"\"\n",
    "        Creates a random Waldo-seeking path.\n",
    "    \"\"\"\n",
    "    new_random_agent = waldo_location_map.keys()\n",
    "    random.shuffle(new_random_agent)\n",
    "    return tuple(new_random_agent)\n"
   ]
  },
  {
   "cell_type": "code",
   "execution_count": 19,
   "metadata": {
    "collapsed": true
   },
   "outputs": [],
   "source": [
    "def mutate_agent(agent_genome, max_mutations=3):\n",
    "    \"\"\"\n",
    "        Applies 1 - `max_mutations` point mutations to the given Waldo-seeking path.\n",
    "        \n",
    "        A point mutation swaps the order of two locations in the Waldo-seeking path.\n",
    "    \"\"\"\n",
    "    agent_genome = list(agent_genome)\n",
    "    num_mutations = random.randint(1, max_mutations)\n",
    "    \n",
    "    for mutation in range(num_mutations):\n",
    "        swap_index1 = random.randint(0, len(agent_genome) - 1)\n",
    "        swap_index2 = swap_index1\n",
    "\n",
    "        while swap_index1 == swap_index2:\n",
    "            swap_index2 = random.randint(0, len(agent_genome) - 1)\n",
    "\n",
    "        agent_genome[swap_index1], agent_genome[swap_index2] = agent_genome[swap_index2], agent_genome[swap_index1]\n",
    "            \n",
    "    return tuple(agent_genome)"
   ]
  },
  {
   "cell_type": "code",
   "execution_count": 20,
   "metadata": {
    "collapsed": true
   },
   "outputs": [],
   "source": [
    "def shuffle_mutation(agent_genome):\n",
    "    \"\"\"\n",
    "        Applies a single shuffle mutation to the given Waldo-seeking path.\n",
    "        \n",
    "        A shuffle mutation takes a random sub-section of the path and moves it to\n",
    "        another location in the path.\n",
    "    \"\"\"\n",
    "    agent_genome = list(agent_genome)\n",
    "    \n",
    "    start_index = random.randint(0, len(agent_genome) - 1)\n",
    "    length = random.randint(2, 20)\n",
    "    \n",
    "    genome_subset = agent_genome[start_index:start_index + length]\n",
    "    agent_genome = agent_genome[:start_index] + agent_genome[start_index + length:]\n",
    "    \n",
    "    insert_index = random.randint(0, len(agent_genome) + len(genome_subset) - 1)\n",
    "    agent_genome = agent_genome[:insert_index] + genome_subset + agent_genome[insert_index:]\n",
    "    \n",
    "    return tuple(agent_genome)"
   ]
  },
  {
   "cell_type": "code",
   "execution_count": 21,
   "metadata": {
    "collapsed": true
   },
   "outputs": [],
   "source": [
    "def generate_random_population(pop_size):\n",
    "    \"\"\"\n",
    "        Generates a list with `pop_size` number of random Waldo-seeking paths.\n",
    "    \"\"\"\n",
    "    random_population = []\n",
    "    for agent in range(pop_size):\n",
    "        random_population.append(generate_random_agent())\n",
    "    return random_population"
   ]
  },
  {
   "cell_type": "code",
   "execution_count": 25,
   "metadata": {
    "collapsed": true
   },
   "outputs": [],
   "source": [
    "def run_genetic_algorithm(generations=10000, population_size=100):\n",
    "    \"\"\"\n",
    "        The core of the Genetic Algorithm.\n",
    "        \n",
    "        `generations` and `population_size` must be a multiple of 10.\n",
    "    \"\"\"\n",
    "    \n",
    "    population_subset_size = int(population_size / 10.)\n",
    "    generations_10pct = int(generations / 10.)\n",
    "    \n",
    "    # Create a random population of `population_size` number of solutions.\n",
    "    population = generate_random_population(population_size)\n",
    "\n",
    "    # For `generations` number of repetitions...\n",
    "    for generation in range(int(generations)):\n",
    "        \n",
    "        # Compute the fitness of the entire current population\n",
    "        population_fitness = {}\n",
    "\n",
    "        for agent_genome in population:\n",
    "            if agent_genome in population_fitness:\n",
    "                continue\n",
    "\n",
    "            population_fitness[agent_genome] = compute_fitness(agent_genome)\n",
    "\n",
    "        # Take the top 10% shortest paths and produce offspring from each of them\n",
    "        new_population = []\n",
    "        for rank, agent_genome in enumerate(sorted(population_fitness,\n",
    "                                                   key=population_fitness.get)[:population_subset_size]):\n",
    "\n",
    "            if (generation % generations_10pct == 0 or generation == (generations - 1)) and rank == 0:\n",
    "                print(\"Generation %d best: %f\" % (generation, population_fitness[agent_genome]))\n",
    "                print(agent_genome)\n",
    "                # Commenting out this for now until plot works\n",
    "                # plot_trajectory(agent_genome)\n",
    "\n",
    "            # Create 1 exact copy of each top path\n",
    "            new_population.append(agent_genome)\n",
    "\n",
    "            # Create 4 offspring with 1-3 mutations\n",
    "            for offspring in range(4):\n",
    "                new_population.append(mutate_agent(agent_genome, 3))\n",
    "                \n",
    "            # Create 5 offspring with a single shuffle mutation\n",
    "            for offspring in range(5):\n",
    "                new_population.append(shuffle_mutation(agent_genome))\n",
    "\n",
    "        # Replace the old population with the new population of offspring\n",
    "        for i in range(len(population))[::-1]:\n",
    "            del population[i]\n",
    "\n",
    "        population = new_population"
   ]
  },
  {
   "cell_type": "markdown",
   "metadata": {},
   "source": [
    "#### Run genetic algorithm"
   ]
  },
  {
   "cell_type": "markdown",
   "metadata": {},
   "source": [
    "DOC: The function below runs the algorithm with a small number of iterations (for testing purposes). Its output are some print() statements. They can be seen in Chrome > View > Developer > JS Console. This proves that the code for the algorithm works. "
   ]
  },
  {
   "cell_type": "markdown",
   "metadata": {},
   "source": [
    "DOC: TODO --> plot of intermediate and final states of the algo. Think what to do with print() hidden in functions [very common practice]"
   ]
  },
  {
   "cell_type": "code",
   "execution_count": 34,
   "metadata": {
    "collapsed": false
   },
   "outputs": [
    {
     "name": "stdout",
     "output_type": "stream",
     "text": [
      "Generation 0 best: 303.651719\n",
      "('B2P6', 'B3P11', 'B5P1', 'B7P1', 'B1P9', 'B3P4', 'B7P3', 'B2P2', 'B6P12', 'B4P5', 'B4P7', 'B7P2', 'B5P10', 'B3P9', 'B1P1', 'B1P12', 'B5P11', 'B6P1', 'B5P6', 'B5P5', 'B2P11', 'B5P9', 'B4P2', 'B5P8', 'B4P4', 'B1P6', 'B2P8', 'B1P11', 'B1P7', 'B4P8', 'B6P2', 'B1P8', 'B7P6', 'B6P8', 'B3P2', 'B4P1', 'B5P4', 'B6P11', 'B3P10', 'B3P3', 'B1P2', 'B5P7', 'B3P5', 'B5P3', 'B3P1', 'B1P3', 'B2P1', 'B3P7', 'B4P10', 'B1P5', 'B7P7', 'B1P4', 'B2P10', 'B2P3', 'B1P10', 'B4P6', 'B2P7', 'B6P5', 'B3P6', 'B2P5', 'B4P9', 'B3P8', 'B5P2', 'B4P11', 'B2P9', 'B2P12', 'B4P3', 'B2P4')\n",
      "Generation 10 best: 243.730415\n",
      "('B4P1', 'B3P11', 'B5P1', 'B7P1', 'B1P9', 'B3P4', 'B7P3', 'B1P2', 'B5P7', 'B4P6', 'B5P3', 'B3P1', 'B6P5', 'B3P6', 'B4P3', 'B2P4', 'B2P5', 'B2P12', 'B5P10', 'B3P9', 'B1P1', 'B1P12', 'B5P11', 'B6P1', 'B5P6', 'B5P5', 'B2P11', 'B5P9', 'B4P2', 'B7P6', 'B7P7', 'B1P4', 'B2P10', 'B2P3', 'B1P10', 'B3P5', 'B2P7', 'B5P2', 'B5P8', 'B4P4', 'B2P1', 'B2P8', 'B1P11', 'B1P7', 'B4P8', 'B6P2', 'B1P8', 'B4P11', 'B4P9', 'B3P8', 'B1P3', 'B1P6', 'B3P7', 'B2P2', 'B6P12', 'B6P8', 'B3P2', 'B2P6', 'B5P4', 'B6P11', 'B3P10', 'B3P3', 'B4P10', 'B1P5', 'B4P5', 'B4P7', 'B7P2', 'B2P9')\n",
      "Generation 20 best: 219.470189\n",
      "('B3P2', 'B7P6', 'B7P7', 'B1P4', 'B2P10', 'B2P3', 'B1P10', 'B3P5', 'B2P7', 'B2P8', 'B1P11', 'B1P7', 'B4P8', 'B6P2', 'B6P12', 'B7P1', 'B4P9', 'B5P2', 'B1P3', 'B2P6', 'B5P4', 'B6P11', 'B3P10', 'B3P3', 'B4P10', 'B1P12', 'B4P5', 'B4P7', 'B7P2', 'B2P9', 'B4P1', 'B3P11', 'B5P1', 'B1P8', 'B1P9', 'B3P4', 'B7P3', 'B1P2', 'B1P6', 'B3P7', 'B2P2', 'B6P8', 'B4P11', 'B5P7', 'B4P6', 'B5P3', 'B3P1', 'B6P5', 'B3P6', 'B4P3', 'B2P4', 'B2P5', 'B2P12', 'B5P10', 'B3P9', 'B1P1', 'B1P5', 'B5P11', 'B6P1', 'B5P8', 'B4P4', 'B2P1', 'B3P8', 'B5P6', 'B5P5', 'B2P11', 'B5P9', 'B4P2')\n",
      "Generation 30 best: 192.230686\n",
      "('B6P2', 'B4P9', 'B5P2', 'B1P3', 'B1P12', 'B1P9', 'B4P10', 'B1P8', 'B4P5', 'B4P7', 'B7P2', 'B2P9', 'B4P1', 'B3P11', 'B5P7', 'B4P6', 'B5P3', 'B3P1', 'B6P12', 'B3P6', 'B4P3', 'B2P4', 'B2P5', 'B2P6', 'B5P10', 'B7P1', 'B1P1', 'B1P5', 'B5P11', 'B6P1', 'B5P8', 'B4P4', 'B3P2', 'B6P5', 'B3P9', 'B1P6', 'B3P7', 'B2P2', 'B6P8', 'B4P11', 'B2P1', 'B5P1', 'B2P7', 'B2P8', 'B1P11', 'B1P7', 'B4P8', 'B3P4', 'B5P6', 'B3P8', 'B7P3', 'B1P2', 'B3P5', 'B2P12', 'B5P4', 'B6P11', 'B3P10', 'B3P3', 'B5P5', 'B2P11', 'B5P9', 'B4P2', 'B7P6', 'B7P7', 'B1P4', 'B2P10', 'B2P3', 'B1P10')\n",
      "Generation 40 best: 175.741099\n",
      "('B6P2', 'B5P5', 'B3P10', 'B3P3', 'B5P8', 'B7P6', 'B5P9', 'B4P2', 'B2P11', 'B4P4', 'B3P2', 'B6P5', 'B3P9', 'B7P7', 'B1P4', 'B2P10', 'B2P3', 'B1P10', 'B1P6', 'B3P7', 'B2P2', 'B6P8', 'B4P11', 'B2P1', 'B5P1', 'B2P7', 'B2P8', 'B1P11', 'B5P3', 'B3P1', 'B6P12', 'B3P6', 'B4P3', 'B2P4', 'B2P5', 'B2P6', 'B5P10', 'B7P1', 'B1P7', 'B4P8', 'B3P4', 'B5P6', 'B3P8', 'B7P3', 'B1P2', 'B3P5', 'B4P9', 'B5P2', 'B1P3', 'B1P12', 'B1P9', 'B5P7', 'B1P8', 'B4P5', 'B4P7', 'B7P2', 'B2P9', 'B4P1', 'B3P11', 'B4P10', 'B4P6', 'B1P1', 'B1P5', 'B5P11', 'B6P1', 'B2P12', 'B5P4', 'B6P11')\n",
      "Generation 50 best: 166.071007\n",
      "('B6P2', 'B5P5', 'B1P4', 'B2P10', 'B2P3', 'B1P10', 'B1P6', 'B1P5', 'B2P2', 'B6P8', 'B4P11', 'B2P1', 'B5P1', 'B2P7', 'B2P8', 'B1P11', 'B5P3', 'B3P1', 'B7P3', 'B3P6', 'B4P3', 'B2P4', 'B2P5', 'B2P6', 'B5P10', 'B7P1', 'B1P7', 'B4P8', 'B3P4', 'B5P6', 'B3P8', 'B6P12', 'B1P2', 'B3P5', 'B4P9', 'B5P2', 'B1P3', 'B1P12', 'B1P8', 'B5P7', 'B1P9', 'B4P5', 'B4P7', 'B7P2', 'B2P9', 'B4P1', 'B3P11', 'B4P10', 'B4P6', 'B1P1', 'B3P7', 'B5P11', 'B6P1', 'B2P12', 'B5P4', 'B6P11', 'B3P10', 'B3P3', 'B5P8', 'B7P6', 'B5P9', 'B4P2', 'B2P11', 'B4P4', 'B3P2', 'B6P5', 'B3P9', 'B7P7')\n",
      "Generation 60 best: 158.379288\n",
      "('B6P2', 'B5P5', 'B1P4', 'B2P10', 'B2P3', 'B1P10', 'B1P6', 'B1P7', 'B6P1', 'B3P4', 'B5P6', 'B3P8', 'B1P5', 'B2P2', 'B6P8', 'B4P11', 'B2P1', 'B5P1', 'B2P7', 'B2P8', 'B1P11', 'B5P3', 'B3P1', 'B7P3', 'B3P6', 'B4P3', 'B2P4', 'B2P5', 'B2P6', 'B5P10', 'B7P1', 'B6P12', 'B1P2', 'B3P5', 'B4P9', 'B5P2', 'B1P3', 'B1P12', 'B1P8', 'B5P7', 'B1P9', 'B4P5', 'B4P7', 'B7P2', 'B2P9', 'B4P1', 'B3P11', 'B4P10', 'B4P6', 'B1P1', 'B3P7', 'B5P11', 'B4P8', 'B2P12', 'B5P4', 'B6P11', 'B3P10', 'B2P11', 'B4P4', 'B5P8', 'B7P6', 'B3P2', 'B3P3', 'B5P9', 'B4P2', 'B6P5', 'B3P9', 'B7P7')\n",
      "Generation 70 best: 151.198421\n",
      "('B6P2', 'B5P5', 'B1P4', 'B2P10', 'B2P3', 'B1P10', 'B1P11', 'B5P3', 'B3P5', 'B4P9', 'B5P2', 'B1P3', 'B1P12', 'B1P8', 'B5P7', 'B1P9', 'B4P5', 'B4P7', 'B7P2', 'B2P9', 'B4P1', 'B3P11', 'B4P10', 'B4P6', 'B1P1', 'B3P1', 'B7P3', 'B3P6', 'B4P3', 'B2P4', 'B2P5', 'B2P6', 'B5P10', 'B7P1', 'B6P12', 'B1P2', 'B3P7', 'B5P11', 'B4P8', 'B2P12', 'B5P4', 'B6P11', 'B3P10', 'B2P11', 'B4P4', 'B5P8', 'B7P6', 'B3P2', 'B3P3', 'B5P9', 'B4P2', 'B6P5', 'B3P9', 'B7P7', 'B1P6', 'B1P7', 'B6P1', 'B3P4', 'B5P6', 'B3P8', 'B1P5', 'B2P2', 'B2P8', 'B4P11', 'B2P1', 'B5P1', 'B2P7', 'B6P8')\n",
      "Generation 80 best: 144.739867\n",
      "('B6P2', 'B5P5', 'B1P4', 'B2P10', 'B2P3', 'B1P10', 'B1P11', 'B5P3', 'B3P1', 'B7P3', 'B3P3', 'B5P9', 'B4P2', 'B6P5', 'B3P9', 'B7P7', 'B1P6', 'B3P6', 'B4P3', 'B2P4', 'B2P5', 'B2P6', 'B5P10', 'B7P1', 'B6P12', 'B1P2', 'B3P5', 'B3P4', 'B5P6', 'B3P8', 'B1P5', 'B2P2', 'B2P8', 'B4P9', 'B5P2', 'B1P3', 'B1P12', 'B1P8', 'B5P7', 'B1P9', 'B4P5', 'B4P7', 'B2P7', 'B2P9', 'B4P1', 'B3P11', 'B4P10', 'B4P6', 'B1P1', 'B3P7', 'B5P11', 'B4P8', 'B2P12', 'B5P4', 'B6P11', 'B3P10', 'B2P11', 'B4P4', 'B5P8', 'B7P6', 'B3P2', 'B1P7', 'B6P1', 'B4P11', 'B2P1', 'B5P1', 'B7P2', 'B6P8')\n",
      "Generation 90 best: 140.899456\n",
      "('B2P10', 'B1P6', 'B1P10', 'B1P11', 'B5P3', 'B3P1', 'B7P3', 'B1P4', 'B7P6', 'B4P2', 'B6P5', 'B5P9', 'B6P2', 'B5P5', 'B3P3', 'B7P7', 'B2P3', 'B3P6', 'B4P3', 'B2P4', 'B2P5', 'B2P6', 'B5P10', 'B7P1', 'B6P12', 'B1P2', 'B3P5', 'B4P9', 'B1P9', 'B1P3', 'B1P12', 'B1P8', 'B5P7', 'B5P2', 'B4P5', 'B4P7', 'B2P7', 'B2P9', 'B4P1', 'B4P11', 'B4P10', 'B4P6', 'B1P1', 'B3P7', 'B5P11', 'B4P8', 'B2P12', 'B5P4', 'B6P11', 'B3P2', 'B2P11', 'B4P4', 'B5P8', 'B3P9', 'B3P10', 'B1P7', 'B6P1', 'B3P4', 'B5P6', 'B3P8', 'B1P5', 'B2P2', 'B2P8', 'B3P11', 'B7P2', 'B2P1', 'B5P1', 'B6P8')\n",
      "Generation 99 best: 131.611202\n",
      "('B2P10', 'B1P6', 'B1P10', 'B1P11', 'B5P3', 'B3P1', 'B7P3', 'B1P4', 'B7P6', 'B4P2', 'B6P5', 'B5P9', 'B6P2', 'B5P5', 'B3P3', 'B7P7', 'B4P11', 'B4P10', 'B4P6', 'B1P1', 'B2P12', 'B5P4', 'B6P11', 'B3P2', 'B2P11', 'B4P4', 'B5P8', 'B3P9', 'B3P10', 'B1P7', 'B2P3', 'B3P6', 'B4P3', 'B2P4', 'B2P5', 'B2P6', 'B5P10', 'B7P1', 'B6P12', 'B1P2', 'B3P5', 'B6P1', 'B3P7', 'B5P11', 'B4P8', 'B3P4', 'B5P6', 'B3P8', 'B1P5', 'B2P2', 'B2P8', 'B3P11', 'B7P2', 'B2P1', 'B5P1', 'B6P8', 'B4P9', 'B1P9', 'B1P3', 'B1P12', 'B1P8', 'B5P7', 'B5P2', 'B4P5', 'B4P7', 'B2P7', 'B2P9', 'B4P1')\n",
      "CPU times: user 278 ms, sys: 8.89 ms, total: 287 ms\n",
      "Wall time: 360 ms\n"
     ]
    }
   ],
   "source": [
    "run_genetic_algorithm(generations=100, population_size=20)"
   ]
  },
  {
   "cell_type": "code",
   "execution_count": null,
   "metadata": {
    "collapsed": true
   },
   "outputs": [],
   "source": []
  }
 ],
 "metadata": {
  "kernelspec": {
   "display_name": "Python 2",
   "language": "python",
   "name": "python2"
  },
  "language_info": {
   "codemirror_mode": {
    "name": "ipython",
    "version": 2
   },
   "file_extension": ".py",
   "mimetype": "text/x-python",
   "name": "python",
   "nbconvert_exporter": "python",
   "pygments_lexer": "ipython2",
   "version": "2.7.10"
  }
 },
 "nbformat": 4,
 "nbformat_minor": 0
}
