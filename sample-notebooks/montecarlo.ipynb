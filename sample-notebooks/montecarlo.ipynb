{
 "cells": [
  {
   "cell_type": "markdown",
   "metadata": {},
   "source": [
    "# Statistics made simple through simulation\n",
    "\n",
    "_adapted from [this notebook](https://github.com/jcbozonier/PyData2015/blob/master/PyData%20Workshop.ipynb) by [Justin Bozonier](https://twitter.com/databozo)_\n",
    "\n",
    "## The 5 Step Modelling Approach\n",
    "\n",
    "1. Ask the question\n",
    "2. Select the modelling approach\n",
    "3. Formulate the model\n",
    "4. Solve the model\n",
    "5. Answer the question\n",
    "\n",
    "\n",
    "## Monte Carlo Simulation\n",
    "\n",
    "Pros\n",
    "* General method that can give approximate solutions to any probability modelling problem. (Mathematical Modelling, Meerschaert)\n",
    "* Intuitive models that are fairly straight-forward to grasp without much mathematical formalism.\n",
    "\n",
    "Cons\n",
    "* Solves via brute force and that can get very time intensive.\n",
    "* The simulation itself introduces extra variation into your solution\n",
    "\n",
    "To the last point while this is true, Meerschaert says:\n",
    "\n",
    "\"As a practical matter, there are many sources of error and variation in a modelling problem, and the additional variation produced by Monte Carlo simulation is not typically the most serious of these.\"\n",
    "\n",
    "He goes on to say that sensitivity analysis is your friend.\n",
    "\n",
    "We'll be using this term to be synonymous with Analytical Simulation. The core difference is a pure Monte Carlo simulation works in simplest terms with no higher level mathematical concepts. An analytical simulation may use probability distributions or other mathematical tooling as a shortcut.\n",
    "\n",
    "## Enough theory\n",
    "\n",
    "Easiest to explain with a simple example. Suppose you're in a room facing a large wall and large open window with a bowl full of marbles on a table behind you. \n",
    "\n",
    "How might you answer the question: \"What percentage of that wall is the window taking up?\"\n",
    "\n",
    "Process\n",
    "1. Count how many marbles are in the bowl.\n",
    "2. Close your eyes and throw marbles at the wall in a purely random way.\n",
    "3. Find the percentage of marbles that went through the window.\n",
    "\n",
    "The answer you get from step 3 will approximate how much of the wall the window takes up.\n",
    "\n",
    "Let's simulate this and see how it works."
   ]
  },
  {
   "cell_type": "code",
   "execution_count": 1,
   "metadata": {
    "collapsed": true
   },
   "outputs": [],
   "source": [
    "import math, random\n",
    "import matplotlib.pyplot as plt"
   ]
  },
  {
   "cell_type": "code",
   "execution_count": 2,
   "metadata": {
    "collapsed": true
   },
   "outputs": [],
   "source": [
    "wall_width = 20\n",
    "wall_height = 10\n",
    "\n",
    "win_low_left = (5, 2.5)\n",
    "win_up_right = (15, 7.5)\n",
    "\n",
    "nr_marbles = 1000"
   ]
  },
  {
   "cell_type": "code",
   "execution_count": 3,
   "metadata": {
    "collapsed": true
   },
   "outputs": [],
   "source": [
    "sample_widths = [random.random() * wall_width for i in range(nr_marbles)]\n",
    "sample_heights = [random.random() * wall_height for i in range(nr_marbles)]\n",
    "\n",
    "random_marbles_thrown = zip(sample_widths, sample_heights)"
   ]
  },
  {
   "cell_type": "markdown",
   "metadata": {},
   "source": [
    "We pick an X and a Y to form a coordinate that we throw a marble at. We throw all of our marbles this way. Then we gather all of the marbles that hit the wall and didn't go through the window."
   ]
  },
  {
   "cell_type": "code",
   "execution_count": 4,
   "metadata": {
    "collapsed": false
   },
   "outputs": [
    {
     "data": {
      "text/plain": [
       "<matplotlib.collections.PathCollection at 0x114edbcd0>"
      ]
     },
     "execution_count": 4,
     "metadata": {},
     "output_type": "execute_result"
    }
   ],
   "source": [
    "marbles_hit_wall = filter(lambda x: (x[0] < win_low_left[0] \n",
    "                                     or x[0] > win_up_right[0]) \n",
    "                                     or\n",
    "                                    (x[1] < win_low_left[1] \n",
    "                                     or x[1] > win_up_right[1]), \n",
    "                                     random_marbles_thrown)\n",
    "\n",
    "plt.scatter(x=map(lambda x: x[0], marbles_hit_wall), \n",
    "            y=map(lambda x: x[1], marbles_hit_wall))"
   ]
  },
  {
   "cell_type": "markdown",
   "metadata": {},
   "source": [
    "Next we find the percentage of marbles that went through the window to find what percentage of the wall the window takes up."
   ]
  },
  {
   "cell_type": "code",
   "execution_count": 5,
   "metadata": {
    "collapsed": false
   },
   "outputs": [
    {
     "data": {
      "text/plain": [
       "0.744"
      ]
     },
     "execution_count": 5,
     "metadata": {},
     "output_type": "execute_result"
    }
   ],
   "source": [
    "len(marbles_hit_wall) / (1.0*nr_marbles)"
   ]
  },
  {
   "cell_type": "code",
   "execution_count": 6,
   "metadata": {
    "collapsed": false
   },
   "outputs": [
    {
     "data": {
      "text/plain": [
       "0.256"
      ]
     },
     "execution_count": 6,
     "metadata": {},
     "output_type": "execute_result"
    }
   ],
   "source": [
    "1 - len(marbles_hit_wall) / (1.0*nr_marbles)"
   ]
  },
  {
   "cell_type": "markdown",
   "metadata": {
    "collapsed": false
   },
   "source": [
    "It's pretty straightforward to do this manually with math:"
   ]
  },
  {
   "cell_type": "code",
   "execution_count": 7,
   "metadata": {
    "collapsed": false
   },
   "outputs": [
    {
     "data": {
      "text/plain": [
       "0.25"
      ]
     },
     "execution_count": 7,
     "metadata": {},
     "output_type": "execute_result"
    }
   ],
   "source": [
    "window_height = win_up_right[1] - win_low_left[1]\n",
    "window_width = win_up_right[0] - win_low_left[0]\n",
    "\n",
    "(window_height * window_width) / (1.0 * wall_height * wall_width)"
   ]
  }
 ],
 "metadata": {
  "kernelspec": {
   "display_name": "Python 2",
   "language": "python",
   "name": "python2"
  },
  "language_info": {
   "codemirror_mode": {
    "name": "ipython",
    "version": 2
   },
   "file_extension": ".py",
   "mimetype": "text/x-python",
   "name": "python",
   "nbconvert_exporter": "python",
   "pygments_lexer": "ipython2",
   "version": "2.7.10"
  }
 },
 "nbformat": 4,
 "nbformat_minor": 0
}
