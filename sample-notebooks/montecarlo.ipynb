{
 "cells": [
  {
   "cell_type": "markdown",
   "metadata": {},
   "source": [
    "# Statistics made simple through simulation\n",
    "\n",
    "_adapted from [this notebook](https://github.com/jcbozonier/PyData2015/blob/master/PyData%20Workshop.ipynb) by [Justin Bozonier](https://twitter.com/databozo)_\n",
    "\n",
    "## The 5 Step Modelling Approach\n",
    "\n",
    "1. Ask the question\n",
    "2. Select the modelling approach\n",
    "3. Formulate the model\n",
    "4. Solve the model\n",
    "5. Answer the question\n",
    "\n",
    "\n",
    "## Monte Carlo Simulation\n",
    "\n",
    "Pros\n",
    "* General method that can give approximate solutions to any probability modelling problem. (Mathematical Modelling, Meerschaert)\n",
    "* Intuitive models that are fairly straight-forward to grasp without much mathematical formalism.\n",
    "\n",
    "Cons\n",
    "* Solves via brute force and that can get very time intensive.\n",
    "* The simulation itself introduces extra variation into your solution\n",
    "\n",
    "To the last point while this is true, Meerschaert says:\n",
    "\n",
    "\"As a practical matter, there are many sources of error and variation in a modelling problem, and the additional variation produced by Monte Carlo simulation is not typically the most serious of these.\"\n",
    "\n",
    "He goes on to say that sensitivity analysis is your friend.\n",
    "\n",
    "We'll be using this term to be synonymous with Analytical Simulation. The core difference is a pure Monte Carlo simulation works in simplest terms with no higher level mathematical concepts. An analytical simulation may use probability distributions or other mathematical tooling as a shortcut.\n",
    "\n",
    "## Enough theory\n",
    "\n",
    "Easiest to explain with a simple example. Suppose you're in a room facing a large wall and large open window with a bowl full of marbles on a table behind you. \n",
    "\n",
    "How might you answer the question: \"What percentage of that wall is the window taking up?\"\n",
    "\n",
    "Process\n",
    "1. Count how many marbles are in the bowl.\n",
    "2. Close your eyes and throw marbles at the wall in a purely random way.\n",
    "3. Find the percentage of marbles that went through the window.\n",
    "\n",
    "The answer you get from step 3 will approximate how much of the wall the window takes up.\n",
    "\n",
    "Let's simulate this and see how it works."
   ]
  },
  {
   "cell_type": "code",
   "execution_count": null,
   "metadata": {
    "collapsed": true
   },
   "outputs": [],
   "source": [
    "import math, random\n",
    "import matplotlib.pyplot as plt"
   ]
  },
  {
   "cell_type": "code",
   "execution_count": 24,
   "metadata": {
    "collapsed": true
   },
   "outputs": [],
   "source": [
    "wall_width = 20\n",
    "wall_height = 10\n",
    "\n",
    "window_lower_left = (5, 2.5)\n",
    "window_upper_right = (15, 7.5)\n",
    "\n",
    "number_of_marbles = 1000"
   ]
  },
  {
   "cell_type": "code",
   "execution_count": 25,
   "metadata": {
    "collapsed": true
   },
   "outputs": [],
   "source": [
    "sample_widths = [random.random() * wall_width for i in range(number_of_marbles)]\n",
    "sample_heights = [random.random() * wall_height for i in range(number_of_marbles)]\n",
    "\n",
    "random_marbles_thrown = zip(sample_widths, sample_heights)"
   ]
  },
  {
   "cell_type": "markdown",
   "metadata": {},
   "source": [
    "We pick an X and a Y to form a coordinate that we throw a marble at. We throw all of our marbles this way. Then we gather all of the marbles that hit the wall and didn't go through the window."
   ]
  },
  {
   "cell_type": "code",
   "execution_count": 26,
   "metadata": {
    "collapsed": false
   },
   "outputs": [
    {
     "data": {
      "text/plain": [
       "<matplotlib.collections.PathCollection at 0x10b887350>"
      ]
     },
     "execution_count": 26,
     "metadata": {},
     "output_type": "execute_result"
    },
    {
     "data": {
      "image/png": "[encoded data removed]",
      "text/plain": [
       "<matplotlib.figure.Figure at 0x10b65ea90>"
      ]
     },
     "metadata": {},
     "output_type": "display_data"
    }
   ],
   "source": [
    "marbles_that_hit_the_wall = filter(lambda x: (x[0] < window_lower_left[0] or x[0] > window_upper_right[0]) or\n",
    "                                             (x[1] < window_lower_left[1] or x[1] > window_upper_right[1]), \n",
    "                                             random_marbles_thrown)\n",
    "\n",
    "plt.scatter(x=map(lambda x: x[0], marbles_that_hit_the_wall), y=map(lambda x: x[1], marbles_that_hit_the_wall))"
   ]
  },
  {
   "cell_type": "markdown",
   "metadata": {},
   "source": [
    "Next we find the percentage of marbles that went through the window to find what percentage of the wall the window takes up."
   ]
  },
  {
   "cell_type": "code",
   "execution_count": 18,
   "metadata": {
    "collapsed": false
   },
   "outputs": [
    {
     "data": {
      "text/plain": [
       "0.74952"
      ]
     },
     "execution_count": 18,
     "metadata": {},
     "output_type": "execute_result"
    }
   ],
   "source": [
    "len(marbles_that_hit_the_wall) / (1.0*number_of_marbles)"
   ]
  },
  {
   "cell_type": "code",
   "execution_count": 19,
   "metadata": {
    "collapsed": false
   },
   "outputs": [
    {
     "data": {
      "text/plain": [
       "0.25048000000000004"
      ]
     },
     "execution_count": 19,
     "metadata": {},
     "output_type": "execute_result"
    }
   ],
   "source": [
    "1 - len(marbles_that_hit_the_wall) / (1.0*number_of_marbles)"
   ]
  },
  {
   "cell_type": "markdown",
   "metadata": {
    "collapsed": false
   },
   "source": [
    "It's pretty straightforward to do this manually with math:"
   ]
  },
  {
   "cell_type": "code",
   "execution_count": 1,
   "metadata": {
    "collapsed": false
   },
   "outputs": [
    {
     "ename": "NameError",
     "evalue": "name 'window_upper_right' is not defined",
     "output_type": "error",
     "traceback": [
      "\u001b[0;31m---------------------------------------------------------------------------\u001b[0m",
      "\u001b[0;31mNameError\u001b[0m                                 Traceback (most recent call last)",
      "\u001b[0;32m<ipython-input-1-367385ba895c>\u001b[0m in \u001b[0;36m<module>\u001b[0;34m()\u001b[0m\n\u001b[0;32m----> 1\u001b[0;31m \u001b[0mwindow_height\u001b[0m \u001b[0;34m=\u001b[0m \u001b[0mwindow_upper_right\u001b[0m\u001b[0;34m[\u001b[0m\u001b[0;36m1\u001b[0m\u001b[0;34m]\u001b[0m \u001b[0;34m-\u001b[0m \u001b[0mwindow_lower_left\u001b[0m\u001b[0;34m[\u001b[0m\u001b[0;36m1\u001b[0m\u001b[0;34m]\u001b[0m\u001b[0;34m\u001b[0m\u001b[0m\n\u001b[0m\u001b[1;32m      2\u001b[0m \u001b[0mwindow_width\u001b[0m \u001b[0;34m=\u001b[0m \u001b[0mwindow_upper_right\u001b[0m\u001b[0;34m[\u001b[0m\u001b[0;36m0\u001b[0m\u001b[0;34m]\u001b[0m \u001b[0;34m-\u001b[0m \u001b[0mwindow_lower_left\u001b[0m\u001b[0;34m[\u001b[0m\u001b[0;36m0\u001b[0m\u001b[0;34m]\u001b[0m\u001b[0;34m\u001b[0m\u001b[0m\n\u001b[1;32m      3\u001b[0m \u001b[0;34m\u001b[0m\u001b[0m\n\u001b[1;32m      4\u001b[0m \u001b[0;34m(\u001b[0m\u001b[0mwindow_height\u001b[0m \u001b[0;34m*\u001b[0m \u001b[0mwindow_width\u001b[0m\u001b[0;34m)\u001b[0m \u001b[0;34m/\u001b[0m \u001b[0;34m(\u001b[0m\u001b[0;36m1.0\u001b[0m \u001b[0;34m*\u001b[0m \u001b[0mwall_height\u001b[0m \u001b[0;34m*\u001b[0m \u001b[0mwall_width\u001b[0m\u001b[0;34m)\u001b[0m\u001b[0;34m\u001b[0m\u001b[0m\n",
      "\u001b[0;31mNameError\u001b[0m: name 'window_upper_right' is not defined"
     ]
    }
   ],
   "source": [
    "window_height = window_upper_right[1] - window_lower_left[1]\n",
    "window_width = window_upper_right[0] - window_lower_left[0]\n",
    "\n",
    "(window_height * window_width) / (1.0 * wall_height * wall_width)"
   ]
  },
  {
   "cell_type": "code",
   "execution_count": null,
   "metadata": {
    "collapsed": true
   },
   "outputs": [],
   "source": []
  }
 ],
 "metadata": {
  "kernelspec": {
   "display_name": "Python 2",
   "language": "python",
   "name": "python2"
  },
  "language_info": {
   "codemirror_mode": {
    "name": "ipython",
    "version": 2
   },
   "file_extension": ".py",
   "mimetype": "text/x-python",
   "name": "python",
   "nbconvert_exporter": "python",
   "pygments_lexer": "ipython2",
   "version": "2.7.9"
  }
 },
 "nbformat": 4,
 "nbformat_minor": 0
}
