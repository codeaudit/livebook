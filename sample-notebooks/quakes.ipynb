{
 "cells": [
  {
   "cell_type": "markdown",
   "metadata": {},
   "source": [
    "## Analyzing State-by-State Changes In Earthquake Frequency"
   ]
  },
  {
   "cell_type": "code",
   "execution_count": 1,
   "metadata": {
    "collapsed": false
   },
   "outputs": [],
   "source": [
    "import pandas as pd\n",
    "from matplotlib import pyplot as plt\n",
    "%matplotlib inline"
   ]
  },
  {
   "cell_type": "markdown",
   "metadata": {},
   "source": [
    "### Load and clean up data\n",
    "\n",
    "The data was obtained from USGS here: http://earthquake.usgs.gov/earthquakes/search/. It was then run through a PostGIS database to determine the location of the epicenters by state, since USGS does provide specific state locations in its data."
   ]
  },
  {
   "cell_type": "code",
   "execution_count": 2,
   "metadata": {
    "collapsed": false
   },
   "outputs": [],
   "source": [
    "all_quakes = pd.DataFrame.from_csv(\"earthquake_states.csv\", index_col=None, parse_dates=[\"time\", \"updated\"])"
   ]
  },
  {
   "cell_type": "markdown",
   "metadata": {},
   "source": [
    "Some earthquakes within the U.S. bounding box don't have epicenters outside any state (e.g., the ocean)."
   ]
  },
  {
   "cell_type": "code",
   "execution_count": 3,
   "metadata": {
    "collapsed": false
   },
   "outputs": [],
   "source": [
    "us_quakes = all_quakes.dropna(subset=[\"state\"])"
   ]
  },
  {
   "cell_type": "code",
   "execution_count": 4,
   "metadata": {
    "collapsed": false
   },
   "outputs": [],
   "source": [
    "state_counts = pd.DataFrame(us_quakes.state.value_counts())"
   ]
  },
  {
   "cell_type": "code",
   "execution_count": 5,
   "metadata": {
    "collapsed": false
   },
   "outputs": [],
   "source": [
    "state_counts.columns = [\"total_number_of_earthquakes\"]"
   ]
  },
  {
   "cell_type": "code",
   "execution_count": 6,
   "metadata": {
    "collapsed": false
   },
   "outputs": [
    {
     "data": {
      "text/html": [
       "<div>\n",
       "<table border=\"1\" class=\"dataframe\">\n",
       "  <thead>\n",
       "    <tr style=\"text-align: right;\">\n",
       "      <th></th>\n",
       "      <th>total_number_of_earthquakes</th>\n",
       "    </tr>\n",
       "  </thead>\n",
       "  <tbody>\n",
       "    <tr>\n",
       "      <th>California</th>\n",
       "      <td>18108</td>\n",
       "    </tr>\n",
       "    <tr>\n",
       "      <th>Alaska</th>\n",
       "      <td>12326</td>\n",
       "    </tr>\n",
       "    <tr>\n",
       "      <th>Nevada</th>\n",
       "      <td>1975</td>\n",
       "    </tr>\n",
       "    <tr>\n",
       "      <th>Idaho</th>\n",
       "      <td>1231</td>\n",
       "    </tr>\n",
       "    <tr>\n",
       "      <th>Washington</th>\n",
       "      <td>973</td>\n",
       "    </tr>\n",
       "    <tr>\n",
       "      <th>Oklahoma</th>\n",
       "      <td>899</td>\n",
       "    </tr>\n",
       "    <tr>\n",
       "      <th>Montana</th>\n",
       "      <td>726</td>\n",
       "    </tr>\n",
       "    <tr>\n",
       "      <th>Wyoming</th>\n",
       "      <td>714</td>\n",
       "    </tr>\n",
       "    <tr>\n",
       "      <th>Hawaii</th>\n",
       "      <td>640</td>\n",
       "    </tr>\n",
       "    <tr>\n",
       "      <th>Utah</th>\n",
       "      <td>559</td>\n",
       "    </tr>\n",
       "    <tr>\n",
       "      <th>Oregon</th>\n",
       "      <td>376</td>\n",
       "    </tr>\n",
       "    <tr>\n",
       "      <th>Arizona</th>\n",
       "      <td>174</td>\n",
       "    </tr>\n",
       "    <tr>\n",
       "      <th>New Mexico</th>\n",
       "      <td>165</td>\n",
       "    </tr>\n",
       "    <tr>\n",
       "      <th>Arkansas</th>\n",
       "      <td>147</td>\n",
       "    </tr>\n",
       "    <tr>\n",
       "      <th>Colorado</th>\n",
       "      <td>143</td>\n",
       "    </tr>\n",
       "    <tr>\n",
       "      <th>Texas</th>\n",
       "      <td>130</td>\n",
       "    </tr>\n",
       "    <tr>\n",
       "      <th>Missouri</th>\n",
       "      <td>92</td>\n",
       "    </tr>\n",
       "    <tr>\n",
       "      <th>Tennessee</th>\n",
       "      <td>81</td>\n",
       "    </tr>\n",
       "    <tr>\n",
       "      <th>Kansas</th>\n",
       "      <td>61</td>\n",
       "    </tr>\n",
       "    <tr>\n",
       "      <th>Illinois</th>\n",
       "      <td>61</td>\n",
       "    </tr>\n",
       "    <tr>\n",
       "      <th>Maine</th>\n",
       "      <td>36</td>\n",
       "    </tr>\n",
       "    <tr>\n",
       "      <th>Alabama</th>\n",
       "      <td>35</td>\n",
       "    </tr>\n",
       "    <tr>\n",
       "      <th>New York</th>\n",
       "      <td>35</td>\n",
       "    </tr>\n",
       "    <tr>\n",
       "      <th>Kentucky</th>\n",
       "      <td>33</td>\n",
       "    </tr>\n",
       "    <tr>\n",
       "      <th>South Carolina</th>\n",
       "      <td>32</td>\n",
       "    </tr>\n",
       "    <tr>\n",
       "      <th>Nebraska</th>\n",
       "      <td>29</td>\n",
       "    </tr>\n",
       "    <tr>\n",
       "      <th>South Dakota</th>\n",
       "      <td>29</td>\n",
       "    </tr>\n",
       "    <tr>\n",
       "      <th>Virginia</th>\n",
       "      <td>28</td>\n",
       "    </tr>\n",
       "    <tr>\n",
       "      <th>Ohio</th>\n",
       "      <td>22</td>\n",
       "    </tr>\n",
       "    <tr>\n",
       "      <th>Indiana</th>\n",
       "      <td>20</td>\n",
       "    </tr>\n",
       "    <tr>\n",
       "      <th>North Carolina</th>\n",
       "      <td>17</td>\n",
       "    </tr>\n",
       "    <tr>\n",
       "      <th>Pennsylvania</th>\n",
       "      <td>14</td>\n",
       "    </tr>\n",
       "    <tr>\n",
       "      <th>Georgia</th>\n",
       "      <td>14</td>\n",
       "    </tr>\n",
       "    <tr>\n",
       "      <th>New Hampshire</th>\n",
       "      <td>13</td>\n",
       "    </tr>\n",
       "    <tr>\n",
       "      <th>Massachusetts</th>\n",
       "      <td>10</td>\n",
       "    </tr>\n",
       "    <tr>\n",
       "      <th>New Jersey</th>\n",
       "      <td>10</td>\n",
       "    </tr>\n",
       "    <tr>\n",
       "      <th>Mississippi</th>\n",
       "      <td>9</td>\n",
       "    </tr>\n",
       "    <tr>\n",
       "      <th>West Virginia</th>\n",
       "      <td>8</td>\n",
       "    </tr>\n",
       "    <tr>\n",
       "      <th>Connecticut</th>\n",
       "      <td>5</td>\n",
       "    </tr>\n",
       "    <tr>\n",
       "      <th>Louisiana</th>\n",
       "      <td>5</td>\n",
       "    </tr>\n",
       "    <tr>\n",
       "      <th>Minnesota</th>\n",
       "      <td>5</td>\n",
       "    </tr>\n",
       "    <tr>\n",
       "      <th>North Dakota</th>\n",
       "      <td>3</td>\n",
       "    </tr>\n",
       "    <tr>\n",
       "      <th>Michigan</th>\n",
       "      <td>3</td>\n",
       "    </tr>\n",
       "    <tr>\n",
       "      <th>Maryland</th>\n",
       "      <td>2</td>\n",
       "    </tr>\n",
       "    <tr>\n",
       "      <th>Florida</th>\n",
       "      <td>1</td>\n",
       "    </tr>\n",
       "    <tr>\n",
       "      <th>Iowa</th>\n",
       "      <td>1</td>\n",
       "    </tr>\n",
       "  </tbody>\n",
       "</table>\n",
       "</div>"
      ],
      "text/plain": [
       "                total_number_of_earthquakes\n",
       "California                            18108\n",
       "Alaska                                12326\n",
       "Nevada                                 1975\n",
       "Idaho                                  1231\n",
       "Washington                              973\n",
       "Oklahoma                                899\n",
       "Montana                                 726\n",
       "Wyoming                                 714\n",
       "Hawaii                                  640\n",
       "Utah                                    559\n",
       "Oregon                                  376\n",
       "Arizona                                 174\n",
       "New Mexico                              165\n",
       "Arkansas                                147\n",
       "Colorado                                143\n",
       "Texas                                   130\n",
       "Missouri                                 92\n",
       "Tennessee                                81\n",
       "Kansas                                   61\n",
       "Illinois                                 61\n",
       "Maine                                    36\n",
       "Alabama                                  35\n",
       "New York                                 35\n",
       "Kentucky                                 33\n",
       "South Carolina                           32\n",
       "Nebraska                                 29\n",
       "South Dakota                             29\n",
       "Virginia                                 28\n",
       "Ohio                                     22\n",
       "Indiana                                  20\n",
       "North Carolina                           17\n",
       "Pennsylvania                             14\n",
       "Georgia                                  14\n",
       "New Hampshire                            13\n",
       "Massachusetts                            10\n",
       "New Jersey                               10\n",
       "Mississippi                               9\n",
       "West Virginia                             8\n",
       "Connecticut                               5\n",
       "Louisiana                                 5\n",
       "Minnesota                                 5\n",
       "North Dakota                              3\n",
       "Michigan                                  3\n",
       "Maryland                                  2\n",
       "Florida                                   1\n",
       "Iowa                                      1"
      ]
     },
     "execution_count": 6,
     "metadata": {},
     "output_type": "execute_result"
    }
   ],
   "source": [
    "state_counts"
   ]
  },
  {
   "cell_type": "markdown",
   "metadata": {},
   "source": [
    "## Charting Earthquake Activity Over Time, By State"
   ]
  },
  {
   "cell_type": "code",
   "execution_count": 7,
   "metadata": {
    "collapsed": false
   },
   "outputs": [
    {
     "data": {
      "image/png": "[encoded data removed]",
      "text/plain": [
       "<matplotlib.figure.Figure at 0x109eb5510>"
      ]
     },
     "metadata": {},
     "output_type": "display_data"
    }
   ],
   "source": [
    "ax = us_quakes[us_quakes[\"state\"] == \"Oklahoma\"].set_index(\"time\")[\"id\"].resample(\"A\", how=\"count\").plot()\n",
    "ax.set_title(\"Oklahoma Earthquake Count By Year\")\n",
    "pass"
   ]
  },
  {
   "cell_type": "code",
   "execution_count": 8,
   "metadata": {
    "collapsed": false
   },
   "outputs": [
    {
     "data": {
      "image/png": "[encoded data removed]",
      "text/plain": [
       "<matplotlib.figure.Figure at 0x10fe6ce10>"
      ]
     },
     "metadata": {},
     "output_type": "display_data"
    }
   ],
   "source": [
    "ax = us_quakes[us_quakes[\"state\"] == \"California\"].set_index(\"time\")[\"id\"].resample(\"A\", how=\"count\").plot()\n",
    "ax.set_title(\"California Earthquake Count By Year\")\n",
    "pass"
   ]
  },
  {
   "cell_type": "code",
   "execution_count": 9,
   "metadata": {
    "collapsed": false
   },
   "outputs": [
    {
     "data": {
      "image/png": "[encoded data removed]",
      "text/plain": [
       "<matplotlib.figure.Figure at 0x10d549c50>"
      ]
     },
     "metadata": {},
     "output_type": "display_data"
    }
   ],
   "source": [
    "ax = us_quakes[us_quakes[\"state\"] == \"Texas\"].set_index(\"time\")[\"id\"].resample(\"A\", how=\"count\").plot()\n",
    "ax.set_title(\"Texas Earthquake Count By Year\")\n",
    "pass"
   ]
  },
  {
   "cell_type": "code",
   "execution_count": 10,
   "metadata": {
    "collapsed": false
   },
   "outputs": [
    {
     "data": {
      "image/png": "[encoded data removed]",
      "text/plain": [
       "<matplotlib.figure.Figure at 0x10d2c3b50>"
      ]
     },
     "metadata": {},
     "output_type": "display_data"
    }
   ],
   "source": [
    "ax = us_quakes[us_quakes[\"state\"] == \"Ohio\"].set_index(\"time\")[\"id\"].resample(\"A\", how=\"count\").plot(color=\"b\")\n",
    "ax.set_title(\"Ohio Earthquake Count By Year\")\n",
    "ax.set_ylim([0,5])\n",
    "pass"
   ]
  },
  {
   "cell_type": "code",
   "execution_count": 11,
   "metadata": {
    "collapsed": false
   },
   "outputs": [
    {
     "data": {
      "image/png": "[encoded data removed]",
      "text/plain": [
       "<matplotlib.figure.Figure at 0x10e7af490>"
      ]
     },
     "metadata": {},
     "output_type": "display_data"
    }
   ],
   "source": [
    "ax = us_quakes[us_quakes[\"state\"] == \"Colorado\"].set_index(\"time\")[\"id\"].resample(\"A\", how=\"count\").plot()\n",
    "ax.set_title(\"Colorado Earthquake Count By Year\")\n",
    "ax.set_ylim([0,25])\n",
    "pass"
   ]
  },
  {
   "cell_type": "code",
   "execution_count": 12,
   "metadata": {
    "collapsed": false
   },
   "outputs": [
    {
     "data": {
      "image/png": "[encoded data removed]",
      "text/plain": [
       "<matplotlib.figure.Figure at 0x10f319610>"
      ]
     },
     "metadata": {},
     "output_type": "display_data"
    }
   ],
   "source": [
    "ax = us_quakes[us_quakes[\"state\"] == \"Tennessee\"].set_index(\"time\")[\"id\"].resample(\"A\", how=\"count\").plot()\n",
    "ax.set_title(\"Tennessee Earthquake Count By Year\")\n",
    "ax.set_ylim([0,10])\n",
    "pass"
   ]
  },
  {
   "cell_type": "code",
   "execution_count": 13,
   "metadata": {
    "collapsed": false
   },
   "outputs": [
    {
     "data": {
      "image/png": "[encoded data removed]",
      "text/plain": [
       "<matplotlib.figure.Figure at 0x10f53d2d0>"
      ]
     },
     "metadata": {},
     "output_type": "display_data"
    }
   ],
   "source": [
    "ax = us_quakes[us_quakes[\"state\"] == \"Kentucky\"].set_index(\"time\")[\"id\"].resample(\"A\", how=\"count\").plot()\n",
    "ax.set_title(\"Kentucky Earthquake Count By Year\")\n",
    "ax.set_ylim([0,10])\n",
    "pass"
   ]
  },
  {
   "cell_type": "code",
   "execution_count": 14,
   "metadata": {
    "collapsed": false
   },
   "outputs": [
    {
     "data": {
      "image/png": "[encoded data removed]",
      "text/plain": [
       "<matplotlib.figure.Figure at 0x10f73cc10>"
      ]
     },
     "metadata": {},
     "output_type": "display_data"
    }
   ],
   "source": [
    "ax = us_quakes[us_quakes[\"state\"] == \"Kansas\"].set_index(\"time\")[\"id\"].resample(\"A\", how=\"count\").plot()\n",
    "ax.set_title(\"Kansas Earthquake Count By Year\")\n",
    "pass"
   ]
  },
  {
   "cell_type": "code",
   "execution_count": 15,
   "metadata": {
    "collapsed": false
   },
   "outputs": [
    {
     "data": {
      "image/png": "[encoded data removed]",
      "text/plain": [
       "<matplotlib.figure.Figure at 0x10f8b0110>"
      ]
     },
     "metadata": {},
     "output_type": "display_data"
    }
   ],
   "source": [
    "ax = us_quakes[us_quakes[\"state\"] == \"Arkansas\"].set_index(\"time\")[\"id\"].resample(\"A\", how=\"count\").plot()\n",
    "ax.set_title(\"Arkansas Earthquake Count By Year\")\n",
    "pass"
   ]
  },
  {
   "cell_type": "markdown",
   "metadata": {},
   "source": [
    "## Calculating Percentage Change Decade Over Decade\n",
    "\n",
    "The most recent complete year of earthquakes is 2014. Below, we compare 2005-2014 to the prior decade, 1995-2004."
   ]
  },
  {
   "cell_type": "code",
   "execution_count": 17,
   "metadata": {
    "collapsed": false
   },
   "outputs": [],
   "source": [
    "def quake_percentage_change(state):\n",
    "    by_year = pd.DataFrame(us_quakes[us_quakes[\"state\"] == state].set_index(\"time\")[\"id\"].resample(\"AS\", how=\"count\"))\n",
    "    by_year[\"start\"] = by_year.index\n",
    "    by_year[\"year\"] = by_year[\"start\"].apply(lambda x: x.year)\n",
    "    decade_05_14 = by_year[(by_year[\"year\"] >= 2005) & (by_year[\"year\"] <= 2014)]\n",
    "    total_05_14 = decade_05_14[\"id\"].sum()\n",
    "    decade_95_04 = by_year[(by_year[\"year\"] >= 1995) & (by_year[\"year\"] <= 2004)]\n",
    "    total_95_04 = decade_95_04[\"id\"].sum()\n",
    "    if total_95_04 != 0:\n",
    "        pct = round(100.0 * (total_05_14 - total_95_04) / total_95_04, 2)\n",
    "    else:\n",
    "        pct = None\n",
    "    return pct, total_05_14, total_95_04"
   ]
  },
  {
   "cell_type": "code",
   "execution_count": 19,
   "metadata": {
    "collapsed": false
   },
   "outputs": [],
   "source": [
    "state_counts[\"name\"] = state_counts.index"
   ]
  },
  {
   "cell_type": "code",
   "execution_count": 20,
   "metadata": {
    "collapsed": false
   },
   "outputs": [],
   "source": [
    "state_counts[\"percentage_change\"], state_counts[\"total_05-14\"], state_counts[\"total_95-04\"] =\\\n",
    "    zip(*state_counts[\"name\"].apply(lambda x: quake_percentage_change(x)))"
   ]
  },
  {
   "cell_type": "markdown",
   "metadata": {},
   "source": [
    "The overall percentage change in the United States decade-over-decade:"
   ]
  },
  {
   "cell_type": "code",
   "execution_count": 22,
   "metadata": {
    "collapsed": false
   },
   "outputs": [
    {
     "data": {
      "text/plain": [
       "-6.56"
      ]
     },
     "execution_count": 22,
     "metadata": {},
     "output_type": "execute_result"
    }
   ],
   "source": [
    "round(100.0 * (state_counts[\"total_05-14\"].sum() - state_counts[\"total_95-04\"].sum()) / state_counts[\"total_95-04\"].sum(), 2)"
   ]
  },
  {
   "cell_type": "markdown",
   "metadata": {},
   "source": [
    "States with at least 5 earthquakes from 1995-2004 (sorted by percentage change decade-over-decade):"
   ]
  },
  {
   "cell_type": "code",
   "execution_count": 23,
   "metadata": {
    "collapsed": false
   },
   "outputs": [
    {
     "data": {
      "text/html": [
       "<div style=\"max-height:1000px;max-width:1500px;overflow:auto;\">\n",
       "<table border=\"1\" class=\"dataframe\">\n",
       "  <thead>\n",
       "    <tr style=\"text-align: right;\">\n",
       "      <th></th>\n",
       "      <th>total_number_of_earthquakes</th>\n",
       "      <th>name</th>\n",
       "      <th>percentage_change</th>\n",
       "      <th>total_05-14</th>\n",
       "      <th>total_95-04</th>\n",
       "    </tr>\n",
       "  </thead>\n",
       "  <tbody>\n",
       "    <tr>\n",
       "      <th>Oklahoma</th>\n",
       "      <td>   899</td>\n",
       "      <td>     Oklahoma</td>\n",
       "      <td> 6042.86</td>\n",
       "      <td>  860</td>\n",
       "      <td>   14</td>\n",
       "    </tr>\n",
       "    <tr>\n",
       "      <th>Arkansas</th>\n",
       "      <td>   147</td>\n",
       "      <td>     Arkansas</td>\n",
       "      <td>  677.78</td>\n",
       "      <td>   70</td>\n",
       "      <td>    9</td>\n",
       "    </tr>\n",
       "    <tr>\n",
       "      <th>Kansas</th>\n",
       "      <td>    61</td>\n",
       "      <td>       Kansas</td>\n",
       "      <td>     650</td>\n",
       "      <td>   45</td>\n",
       "      <td>    6</td>\n",
       "    </tr>\n",
       "    <tr>\n",
       "      <th>Texas</th>\n",
       "      <td>   130</td>\n",
       "      <td>        Texas</td>\n",
       "      <td>  252.38</td>\n",
       "      <td>   74</td>\n",
       "      <td>   21</td>\n",
       "    </tr>\n",
       "    <tr>\n",
       "      <th>Hawaii</th>\n",
       "      <td>   640</td>\n",
       "      <td>       Hawaii</td>\n",
       "      <td>  233.33</td>\n",
       "      <td>  240</td>\n",
       "      <td>   72</td>\n",
       "    </tr>\n",
       "    <tr>\n",
       "      <th>Illinois</th>\n",
       "      <td>    61</td>\n",
       "      <td>     Illinois</td>\n",
       "      <td>     200</td>\n",
       "      <td>   15</td>\n",
       "      <td>    5</td>\n",
       "    </tr>\n",
       "    <tr>\n",
       "      <th>Arizona</th>\n",
       "      <td>   174</td>\n",
       "      <td>      Arizona</td>\n",
       "      <td>  195.45</td>\n",
       "      <td>   65</td>\n",
       "      <td>   22</td>\n",
       "    </tr>\n",
       "    <tr>\n",
       "      <th>Virginia</th>\n",
       "      <td>    28</td>\n",
       "      <td>     Virginia</td>\n",
       "      <td>     160</td>\n",
       "      <td>   13</td>\n",
       "      <td>    5</td>\n",
       "    </tr>\n",
       "    <tr>\n",
       "      <th>Colorado</th>\n",
       "      <td>   143</td>\n",
       "      <td>     Colorado</td>\n",
       "      <td>   97.14</td>\n",
       "      <td>   69</td>\n",
       "      <td>   35</td>\n",
       "    </tr>\n",
       "    <tr>\n",
       "      <th>New Mexico</th>\n",
       "      <td>   165</td>\n",
       "      <td>   New Mexico</td>\n",
       "      <td>   46.15</td>\n",
       "      <td>   57</td>\n",
       "      <td>   39</td>\n",
       "    </tr>\n",
       "    <tr>\n",
       "      <th>Nevada</th>\n",
       "      <td>  1975</td>\n",
       "      <td>       Nevada</td>\n",
       "      <td>   19.38</td>\n",
       "      <td>  536</td>\n",
       "      <td>  449</td>\n",
       "    </tr>\n",
       "    <tr>\n",
       "      <th>South Dakota</th>\n",
       "      <td>    29</td>\n",
       "      <td> South Dakota</td>\n",
       "      <td>   14.29</td>\n",
       "      <td>    8</td>\n",
       "      <td>    7</td>\n",
       "    </tr>\n",
       "    <tr>\n",
       "      <th>Washington</th>\n",
       "      <td>   973</td>\n",
       "      <td>   Washington</td>\n",
       "      <td>    8.28</td>\n",
       "      <td>  183</td>\n",
       "      <td>  169</td>\n",
       "    </tr>\n",
       "    <tr>\n",
       "      <th>Wyoming</th>\n",
       "      <td>   714</td>\n",
       "      <td>      Wyoming</td>\n",
       "      <td>    5.41</td>\n",
       "      <td>  156</td>\n",
       "      <td>  148</td>\n",
       "    </tr>\n",
       "    <tr>\n",
       "      <th>Maine</th>\n",
       "      <td>    36</td>\n",
       "      <td>        Maine</td>\n",
       "      <td>       0</td>\n",
       "      <td>    6</td>\n",
       "      <td>    6</td>\n",
       "    </tr>\n",
       "    <tr>\n",
       "      <th>Nebraska</th>\n",
       "      <td>    29</td>\n",
       "      <td>     Nebraska</td>\n",
       "      <td>       0</td>\n",
       "      <td>    5</td>\n",
       "      <td>    5</td>\n",
       "    </tr>\n",
       "    <tr>\n",
       "      <th>Montana</th>\n",
       "      <td>   726</td>\n",
       "      <td>      Montana</td>\n",
       "      <td>    -2.6</td>\n",
       "      <td>  150</td>\n",
       "      <td>  154</td>\n",
       "    </tr>\n",
       "    <tr>\n",
       "      <th>Alaska</th>\n",
       "      <td> 12326</td>\n",
       "      <td>       Alaska</td>\n",
       "      <td>  -14.26</td>\n",
       "      <td> 3486</td>\n",
       "      <td> 4066</td>\n",
       "    </tr>\n",
       "    <tr>\n",
       "      <th>Utah</th>\n",
       "      <td>   559</td>\n",
       "      <td>         Utah</td>\n",
       "      <td>  -17.61</td>\n",
       "      <td>  117</td>\n",
       "      <td>  142</td>\n",
       "    </tr>\n",
       "    <tr>\n",
       "      <th>Missouri</th>\n",
       "      <td>    92</td>\n",
       "      <td>     Missouri</td>\n",
       "      <td>     -20</td>\n",
       "      <td>   12</td>\n",
       "      <td>   15</td>\n",
       "    </tr>\n",
       "    <tr>\n",
       "      <th>Alabama</th>\n",
       "      <td>    35</td>\n",
       "      <td>      Alabama</td>\n",
       "      <td>     -25</td>\n",
       "      <td>    9</td>\n",
       "      <td>   12</td>\n",
       "    </tr>\n",
       "    <tr>\n",
       "      <th>Tennessee</th>\n",
       "      <td>    81</td>\n",
       "      <td>    Tennessee</td>\n",
       "      <td>  -26.32</td>\n",
       "      <td>   14</td>\n",
       "      <td>   19</td>\n",
       "    </tr>\n",
       "    <tr>\n",
       "      <th>Oregon</th>\n",
       "      <td>   376</td>\n",
       "      <td>       Oregon</td>\n",
       "      <td>  -33.85</td>\n",
       "      <td>   43</td>\n",
       "      <td>   65</td>\n",
       "    </tr>\n",
       "    <tr>\n",
       "      <th>California</th>\n",
       "      <td> 18108</td>\n",
       "      <td>   California</td>\n",
       "      <td>  -34.53</td>\n",
       "      <td> 2490</td>\n",
       "      <td> 3803</td>\n",
       "    </tr>\n",
       "    <tr>\n",
       "      <th>Idaho</th>\n",
       "      <td>  1231</td>\n",
       "      <td>        Idaho</td>\n",
       "      <td>  -35.92</td>\n",
       "      <td>   91</td>\n",
       "      <td>  142</td>\n",
       "    </tr>\n",
       "    <tr>\n",
       "      <th>Indiana</th>\n",
       "      <td>    20</td>\n",
       "      <td>      Indiana</td>\n",
       "      <td>     -40</td>\n",
       "      <td>    3</td>\n",
       "      <td>    5</td>\n",
       "    </tr>\n",
       "    <tr>\n",
       "      <th>Kentucky</th>\n",
       "      <td>    33</td>\n",
       "      <td>     Kentucky</td>\n",
       "      <td>     -40</td>\n",
       "      <td>    3</td>\n",
       "      <td>    5</td>\n",
       "    </tr>\n",
       "    <tr>\n",
       "      <th>New York</th>\n",
       "      <td>    35</td>\n",
       "      <td>     New York</td>\n",
       "      <td>  -64.29</td>\n",
       "      <td>    5</td>\n",
       "      <td>   14</td>\n",
       "    </tr>\n",
       "  </tbody>\n",
       "</table>\n",
       "</div>"
      ],
      "text/plain": [
       "              total_number_of_earthquakes          name percentage_change  \\\n",
       "Oklahoma                              899      Oklahoma           6042.86   \n",
       "Arkansas                              147      Arkansas            677.78   \n",
       "Kansas                                 61        Kansas               650   \n",
       "Texas                                 130         Texas            252.38   \n",
       "Hawaii                                640        Hawaii            233.33   \n",
       "Illinois                               61      Illinois               200   \n",
       "Arizona                               174       Arizona            195.45   \n",
       "Virginia                               28      Virginia               160   \n",
       "Colorado                              143      Colorado             97.14   \n",
       "New Mexico                            165    New Mexico             46.15   \n",
       "Nevada                               1975        Nevada             19.38   \n",
       "South Dakota                           29  South Dakota             14.29   \n",
       "Washington                            973    Washington              8.28   \n",
       "Wyoming                               714       Wyoming              5.41   \n",
       "Maine                                  36         Maine                 0   \n",
       "Nebraska                               29      Nebraska                 0   \n",
       "Montana                               726       Montana              -2.6   \n",
       "Alaska                              12326        Alaska            -14.26   \n",
       "Utah                                  559          Utah            -17.61   \n",
       "Missouri                               92      Missouri               -20   \n",
       "Alabama                                35       Alabama               -25   \n",
       "Tennessee                              81     Tennessee            -26.32   \n",
       "Oregon                                376        Oregon            -33.85   \n",
       "California                          18108    California            -34.53   \n",
       "Idaho                                1231         Idaho            -35.92   \n",
       "Indiana                                20       Indiana               -40   \n",
       "Kentucky                               33      Kentucky               -40   \n",
       "New York                               35      New York            -64.29   \n",
       "\n",
       "              total_05-14  total_95-04  \n",
       "Oklahoma              860           14  \n",
       "Arkansas               70            9  \n",
       "Kansas                 45            6  \n",
       "Texas                  74           21  \n",
       "Hawaii                240           72  \n",
       "Illinois               15            5  \n",
       "Arizona                65           22  \n",
       "Virginia               13            5  \n",
       "Colorado               69           35  \n",
       "New Mexico             57           39  \n",
       "Nevada                536          449  \n",
       "South Dakota            8            7  \n",
       "Washington            183          169  \n",
       "Wyoming               156          148  \n",
       "Maine                   6            6  \n",
       "Nebraska                5            5  \n",
       "Montana               150          154  \n",
       "Alaska               3486         4066  \n",
       "Utah                  117          142  \n",
       "Missouri               12           15  \n",
       "Alabama                 9           12  \n",
       "Tennessee              14           19  \n",
       "Oregon                 43           65  \n",
       "California           2490         3803  \n",
       "Idaho                  91          142  \n",
       "Indiana                 3            5  \n",
       "Kentucky                3            5  \n",
       "New York                5           14  "
      ]
     },
     "execution_count": 23,
     "metadata": {},
     "output_type": "execute_result"
    }
   ],
   "source": [
    "state_counts[state_counts[\"total_95-04\"] >= 5].sort(\"percentage_change\", ascending=False)"
   ]
  },
  {
   "cell_type": "code",
   "execution_count": null,
   "metadata": {
    "collapsed": false
   },
   "outputs": [],
   "source": []
  }
 ],
 "metadata": {
  "kernelspec": {
   "display_name": "Python 2",
   "language": "python",
   "name": "python2"
  },
  "language_info": {
   "codemirror_mode": {
    "name": "ipython",
    "version": 2
   },
   "file_extension": ".py",
   "mimetype": "text/x-python",
   "name": "python",
   "nbconvert_exporter": "python",
   "pygments_lexer": "ipython2",
   "version": "2.7.9"
  }
 },
 "nbformat": 4,
 "nbformat_minor": 0
}
