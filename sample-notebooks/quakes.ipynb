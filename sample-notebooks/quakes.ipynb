{
 "cells": [
  {
   "cell_type": "markdown",
   "metadata": {},
   "source": [
    "# Oklahoma quakes"
   ]
  },
  {
   "cell_type": "code",
   "execution_count": 3,
   "metadata": {
    "collapsed": false
   },
   "outputs": [],
   "source": [
    "import pandas as pd\n",
    "import matplotlib.pyplot as plt\n",
    "%matplotlib inline"
   ]
  },
  {
   "cell_type": "markdown",
   "metadata": {},
   "source": [
    "### Load and clean up data\n",
    "\n",
    "The data was obtained from USGS here: http://earthquake.usgs.gov/earthquakes/search/. It was then run through a PostGIS database to determine the location of the epicenters by state, since USGS does provide specific state locations in its data."
   ]
  },
  {
   "cell_type": "code",
   "execution_count": 4,
   "metadata": {
    "collapsed": false
   },
   "outputs": [],
   "source": [
    "all_quakes = pd.DataFrame.from_csv(\"quakes.csv\", index_col=None, parse_dates=[\"time\", \"updated\"])"
   ]
  },
  {
   "cell_type": "markdown",
   "metadata": {},
   "source": [
    "Some earthquakes within the U.S. bounding box don't have epicenters outside any state (e.g., the ocean)."
   ]
  },
  {
   "cell_type": "code",
   "execution_count": 5,
   "metadata": {
    "collapsed": false
   },
   "outputs": [
    {
     "data": {
      "text/plain": [
       "899"
      ]
     },
     "execution_count": 5,
     "metadata": {},
     "output_type": "execute_result"
    }
   ],
   "source": [
    "ok_quakes = all_quakes[all_quakes[\"state\"] == \"Oklahoma\"]\n",
    "len(ok_quakes)"
   ]
  },
  {
   "cell_type": "markdown",
   "metadata": {},
   "source": [
    "## Charting Earthquake Activity Over Time, By State"
   ]
  },
  {
   "cell_type": "code",
   "execution_count": 6,
   "metadata": {
    "collapsed": false
   },
   "outputs": [
    {
     "data": {
      "text/plain": [
       "time\n",
       "1974-12-31      1\n",
       "1975-12-31      3\n",
       "1976-12-31      2\n",
       "1977-12-31      0\n",
       "1978-12-31      0\n",
       "1979-12-31      2\n",
       "1980-12-31      1\n",
       "1981-12-31      1\n",
       "1982-12-31      1\n",
       "1983-12-31      0\n",
       "1984-12-31      1\n",
       "1985-12-31      0\n",
       "1986-12-31      0\n",
       "1987-12-31      2\n",
       "1988-12-31      0\n",
       "1989-12-31      1\n",
       "1990-12-31      2\n",
       "1991-12-31      2\n",
       "1992-12-31      2\n",
       "1993-12-31      2\n",
       "1994-12-31      2\n",
       "1995-12-31      4\n",
       "1996-12-31      0\n",
       "1997-12-31      1\n",
       "1998-12-31      3\n",
       "1999-12-31      1\n",
       "2000-12-31      0\n",
       "2001-12-31      0\n",
       "2002-12-31      3\n",
       "2003-12-31      0\n",
       "2004-12-31      2\n",
       "2005-12-31      1\n",
       "2006-12-31      3\n",
       "2007-12-31      1\n",
       "2008-12-31      2\n",
       "2009-12-31     20\n",
       "2010-12-31     43\n",
       "2011-12-31     64\n",
       "2012-12-31     34\n",
       "2013-12-31    107\n",
       "2014-12-31    585\n",
       "Freq: A-DEC, Name: id, dtype: int64"
      ]
     },
     "execution_count": 6,
     "metadata": {},
     "output_type": "execute_result"
    }
   ],
   "source": [
    "data = ok_quakes.set_index(\"time\")[\"id\"].resample(\"A\", how=\"count\")\n",
    "data"
   ]
  },
  {
   "cell_type": "code",
   "execution_count": 7,
   "metadata": {
    "collapsed": false
   },
   "outputs": [
    {
     "data": {
      "image/png": "[encoded data removed]",
      "text/plain": [
       "<matplotlib.figure.Figure at 0x104a6ee10>"
      ]
     },
     "metadata": {},
     "output_type": "display_data"
    }
   ],
   "source": [
    "ax = data.plot()\n",
    "ax.set_title(\"Oklahoma Earthquake Count By Year\")\n",
    "pass"
   ]
  }
 ],
 "metadata": {
  "kernelspec": {
   "display_name": "Python 2",
   "language": "python",
   "name": "python2"
  },
  "language_info": {
   "codemirror_mode": {
    "name": "ipython",
    "version": 2
   },
   "file_extension": ".py",
   "mimetype": "text/x-python",
   "name": "python",
   "nbconvert_exporter": "python",
   "pygments_lexer": "ipython2",
   "version": "2.7.9"
  }
 },
 "nbformat": 4,
 "nbformat_minor": 0
}
