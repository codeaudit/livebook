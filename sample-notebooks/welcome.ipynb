{
 "cells": [
  {
   "cell_type": "markdown",
   "metadata": {},
   "source": [
    "# Welcome to Livebook\n",
    "\n",
    "Livebook is an [IPython notebook](http://ipython.org/notebook.html)-compatible live coding experiment. Click this text to start editing!\n",
    "\n",
    "## Live coding"
   ]
  },
  {
   "cell_type": "code",
   "execution_count": 1,
   "metadata": {
    "collapsed": false
   },
   "outputs": [
    {
     "data": {
      "text/plain": [
       "'Live Coding Is Fun! Live Coding Is Fun! Live Coding Is Fun!'"
      ]
     },
     "execution_count": 1,
     "metadata": {},
     "output_type": "execute_result"
    }
   ],
   "source": [
    "import string\n",
    "string.capwords(\"live coding is fun! \" * 3)"
   ]
  },
  {
   "cell_type": "markdown",
   "metadata": {},
   "source": [
    "## Prose editor\n",
    "\n",
    "Navigate the editor like a regular word processor, select words to bold or create section headers. Click the + in the left margin or press ⌘-J to insert a new code cell.\n",
    "\n",
    "## CSV data and charts\n",
    "\n",
    "Load the embedded CSV:"
   ]
  },
  {
   "cell_type": "code",
   "execution_count": 4,
   "metadata": {
    "collapsed": false
   },
   "outputs": [
    {
     "data": {
      "text/html": [
       "<div>\n",
       "<table border=\"1\" class=\"dataframe\">\n",
       "  <thead>\n",
       "    <tr style=\"text-align: right;\">\n",
       "      <th></th>\n",
       "      <th>year</th>\n",
       "      <th>pop_usa</th>\n",
       "      <th>pop_china</th>\n",
       "      <th>pop_russia</th>\n",
       "    </tr>\n",
       "  </thead>\n",
       "  <tbody>\n",
       "    <tr>\n",
       "      <th>0</th>\n",
       "      <td>1950</td>\n",
       "      <td>157813040</td>\n",
       "      <td>544112923</td>\n",
       "      <td>102798657</td>\n",
       "    </tr>\n",
       "    <tr>\n",
       "      <th>1</th>\n",
       "      <td>1960</td>\n",
       "      <td>186176524</td>\n",
       "      <td>644450173</td>\n",
       "      <td>119860289</td>\n",
       "    </tr>\n",
       "    <tr>\n",
       "      <th>2</th>\n",
       "      <td>1970</td>\n",
       "      <td>209485807</td>\n",
       "      <td>808510713</td>\n",
       "      <td>130126383</td>\n",
       "    </tr>\n",
       "    <tr>\n",
       "      <th>3</th>\n",
       "      <td>1980</td>\n",
       "      <td>229588208</td>\n",
       "      <td>977837433</td>\n",
       "      <td>138063062</td>\n",
       "    </tr>\n",
       "    <tr>\n",
       "      <th>4</th>\n",
       "      <td>1990</td>\n",
       "      <td>252847810</td>\n",
       "      <td>1154605773</td>\n",
       "      <td>147568552</td>\n",
       "    </tr>\n",
       "  </tbody>\n",
       "</table>\n",
       "</div>"
      ],
      "text/plain": [
       "   year    pop_usa   pop_china  pop_russia\n",
       "0  1950  157813040   544112923   102798657\n",
       "1  1960  186176524   644450173   119860289\n",
       "2  1970  209485807   808510713   130126383\n",
       "3  1980  229588208   977837433   138063062\n",
       "4  1990  252847810  1154605773   147568552"
      ]
     },
     "execution_count": 4,
     "metadata": {},
     "output_type": "execute_result"
    }
   ],
   "source": [
    "import pandas as pd\n",
    "data = pd.read_csv('welcome.csv')\n",
    "data.head()"
   ]
  },
  {
   "cell_type": "markdown",
   "metadata": {},
   "source": [
    "Plot the results:"
   ]
  },
  {
   "cell_type": "code",
   "execution_count": 5,
   "metadata": {
    "collapsed": false
   },
   "outputs": [
    {
     "data": {
      "text/plain": [
       "[<matplotlib.lines.Line2D at 0x10714b310>]"
      ]
     },
     "execution_count": 5,
     "metadata": {},
     "output_type": "execute_result"
    },
    {
     "data": {
      "image/png": "[encoded data removed]",
      "text/plain": [
       "<matplotlib.figure.Figure at 0x1070e5d50>"
      ]
     },
     "metadata": {},
     "output_type": "display_data"
    }
   ],
   "source": [
    "import matplotlib.pyplot as plt\n",
    "\n",
    "plt.plot(data.year, data.pop_usa)\n",
    "plt.plot(data.year, data.pop_china)\n",
    "plt.plot(data.year, data.pop_russia)\n"
   ]
  },
  {
   "cell_type": "markdown",
   "metadata": {},
   "source": [
    "## Realtime collaboration\n",
    "\n",
    "Send the URL of this notebook to your friends or colleagues they'll be able to edit collaboratively with you, similar to Google Docs. Click your avatar to change your name.\n",
    "\n",
    "## Going further\n",
    "\n",
    "Once you're ready for something more sophisticated, open the menu in the upper left corner and try out the earthquake,  Monte Carlo, or plotting notebooks.\n",
    "\n",
    "[More information and full sourcecode available here.](https://github.com/inkandswitch/livebook)\n",
    "\n",
    "Have fun!\n",
    "\n",
    "❤,\n",
    "Adam, Orion, Brett, Lucia (the Livebook team)\n"
   ]
  }
 ],
 "metadata": {
  "kernelspec": {
   "display_name": "Python 2",
   "language": "python",
   "name": "python2"
  },
  "language_info": {
   "codemirror_mode": {
    "name": "ipython",
    "version": 2
   },
   "file_extension": ".py",
   "mimetype": "text/x-python",
   "name": "python",
   "nbconvert_exporter": "python",
   "pygments_lexer": "ipython2",
   "version": "2.7.10"
  }
 },
 "nbformat": 4,
 "nbformat_minor": 0
}
