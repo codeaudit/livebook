{
 "cells": [
  {
   "cell_type": "markdown",
   "metadata": {},
   "source": [
    "# Analyzing State-by-State Changes In Earthquake Frequency\n",
    "\n",
    "_adapted from [this notebook](https://github.com/BuzzFeedNews/2015-03-earthquake-maps/blob/master/notebooks/earthquake-state-analysis.ipynb) by [John Templon](https://twitter.com/jtemplon)_"
   ]
  },
  {
   "cell_type": "code",
   "execution_count": null,
   "metadata": {
    "collapsed": true
   },
   "outputs": [],
   "source": [
    "import matplotlib.pyplot as plt\n",
    "import pandas as pd"
   ]
  },
  {
   "cell_type": "markdown",
   "metadata": {},
   "source": [
    "## Load and clean up data\n",
    "\n",
    "The data was obtained from USGS here:\n",
    "\n",
    "http://earthquake.usgs.gov/earthquakes/search/. \n",
    "\n",
    "It was then run through a PostGIS database to determine the location of the epicenters by state, since USGS does provide specific state locations in its data."
   ]
  },
  {
   "cell_type": "code",
   "execution_count": null,
   "metadata": {
    "collapsed": false
   },
   "outputs": [],
   "source": [
    "all_quakes = pd.DataFrame.from_csv(\"earthquakes.csv\", \n",
    "                                   index_col=None, \n",
    "                                   parse_dates=[\"time\", \"updated\"])\n",
    "len(all_quakes)"
   ]
  },
  {
   "cell_type": "code",
   "execution_count": null,
   "metadata": {
    "collapsed": false
   },
   "outputs": [],
   "source": [
    "all_quakes.head()"
   ]
  },
  {
   "cell_type": "markdown",
   "metadata": {},
   "source": [
    "Some earthquakes within the U.S. bounding box don't have epicenters outside any state (e.g., the ocean)."
   ]
  },
  {
   "cell_type": "code",
   "execution_count": null,
   "metadata": {
    "collapsed": false
   },
   "outputs": [],
   "source": [
    "us_quakes = all_quakes.dropna(subset=[\"state\"])\n",
    "len(us_quakes)"
   ]
  },
  {
   "cell_type": "markdown",
   "metadata": {},
   "source": [
    "Count number of earthquakes per state"
   ]
  },
  {
   "cell_type": "code",
   "execution_count": null,
   "metadata": {
    "collapsed": false
   },
   "outputs": [],
   "source": [
    "state_cts = pd.DataFrame(us_quakes.state.value_counts())\n",
    "state_cts.head()"
   ]
  },
  {
   "cell_type": "markdown",
   "metadata": {},
   "source": [
    "## Charting Earthquake Activity Over Time, By State"
   ]
  },
  {
   "cell_type": "code",
   "execution_count": null,
   "metadata": {
    "collapsed": false
   },
   "outputs": [],
   "source": [
    "data = (us_quakes[us_quakes[\"state\"] == \"Oklahoma\"]\n",
    "        .set_index(\"time\")[\"id\"]\n",
    "        .resample(\"A\", how=\"count\"))\n",
    "data.head()"
   ]
  },
  {
   "cell_type": "code",
   "execution_count": null,
   "metadata": {
    "collapsed": false
   },
   "outputs": [],
   "source": [
    "plt.plot(data)"
   ]
  },
  {
   "cell_type": "code",
   "execution_count": null,
   "metadata": {
    "collapsed": false
   },
   "outputs": [],
   "source": [
    "data = (us_quakes[us_quakes[\"state\"] == \"California\"]\n",
    "        .set_index(\"time\")[\"id\"]\n",
    "        .resample(\"A\", how=\"count\"))\n",
    "plt.plot(data)"
   ]
  },
  {
   "cell_type": "code",
   "execution_count": null,
   "metadata": {
    "collapsed": false
   },
   "outputs": [],
   "source": [
    "data = (us_quakes[us_quakes[\"state\"] == \"Texas\"]\n",
    "        .set_index(\"time\")[\"id\"]\n",
    "        .resample(\"A\", how=\"count\"))\n",
    "plt.plot(data)"
   ]
  },
  {
   "cell_type": "code",
   "execution_count": null,
   "metadata": {
    "collapsed": false
   },
   "outputs": [],
   "source": [
    "data = (us_quakes[us_quakes[\"state\"] == \"Kansas\"]\n",
    "        .set_index(\"time\")[\"id\"]\n",
    "        .resample(\"A\", how=\"count\"))\n",
    "plt.plot(data)"
   ]
  },
  {
   "cell_type": "markdown",
   "metadata": {},
   "source": [
    "## Calculating Percentage Change Decade Over Decade\n",
    "\n",
    "The most recent complete year of earthquakes is 2014. Below, we compare 2005-2014 to the prior decade, 1995-2004."
   ]
  },
  {
   "cell_type": "code",
   "execution_count": null,
   "metadata": {
    "collapsed": false
   },
   "outputs": [],
   "source": [
    "def quake_percentage_change(state):\n",
    "    by_year = (pd.DataFrame(us_quakes[us_quakes[\"state\"] == state]\n",
    "                            .set_index(\"time\")[\"id\"]\n",
    "                            .resample(\"AS\", how=\"count\")))\n",
    "    by_year[\"start\"] = by_year.index\n",
    "    by_year[\"year\"] = by_year[\"start\"].apply(lambda x: int(x[0:4]))\n",
    "    \n",
    "    # Decade 2005-2014\n",
    "    decade_05_14 = (by_year[(by_year[\"year\"] >= 2005) \n",
    "                            & (by_year[\"year\"] <= 2014)])\n",
    "    total_05_14 = decade_05_14[\"count\"].sum()\n",
    "    \n",
    "    # Decade 1995-2004\n",
    "    decade_95_04 = (by_year[(by_year[\"year\"] >= 1995) \n",
    "                            & (by_year[\"year\"] <= 2004)])\n",
    "    total_95_04 = decade_95_04[\"count\"].sum()\n",
    "    \n",
    "    if total_95_04 != 0:\n",
    "        pct = round(100.0 * (total_05_14 - total_95_04) / total_95_04, 2)\n",
    "    else:\n",
    "        pct = None\n",
    "    return total_95_04, total_05_14, pct"
   ]
  },
  {
   "cell_type": "code",
   "execution_count": null,
   "metadata": {
    "collapsed": false
   },
   "outputs": [],
   "source": [
    "state_cts[\"name\"] = state_cts.index\n",
    "state_cts[\"95-04\"], state_cts[\"05-14\"], state_cts[\"perc_change\"] = \\\n",
    "    zip(*state_cts[\"name\"].apply(lambda x: quake_percentage_change(x)))"
   ]
  },
  {
   "cell_type": "markdown",
   "metadata": {},
   "source": [
    "States with at least 5 earthquakes from 1995-2004 (sorted by percentage change decade-over-decade):"
   ]
  },
  {
   "cell_type": "code",
   "execution_count": null,
   "metadata": {
    "collapsed": false
   },
   "outputs": [],
   "source": [
    "states_5_at_least = state_cts[state_cts[\"95-04\"] >= 5]\n",
    "states_5_at_least.sort_values(by=\"perc_change\", ascending=False).head(10)"
   ]
  }
 ],
 "metadata": {
  "kernelspec": {
   "display_name": "Python 2",
   "language": "python",
   "name": "python2"
  },
  "language_info": {
   "codemirror_mode": {
    "name": "ipython",
    "version": 2
   },
   "file_extension": ".py",
   "mimetype": "text/x-python",
   "name": "python",
   "nbconvert_exporter": "python",
   "pygments_lexer": "ipython2",
   "version": "2.7.10"
  }
 },
 "nbformat": 4,
 "nbformat_minor": 0
}
