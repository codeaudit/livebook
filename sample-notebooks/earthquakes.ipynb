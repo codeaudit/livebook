{
 "cells": [
  {
   "cell_type": "markdown",
   "metadata": {},
   "source": [
    "## Analyzing State-by-State Changes In Earthquake Frequency\n"
   ]
  },
  {
   "cell_type": "code",
   "execution_count": 1,
   "metadata": {
    "collapsed": true
   },
   "outputs": [],
   "source": [
    "import matplotlib.pyplot as plt\n",
    "import pandas as pd"
   ]
  },
  {
   "cell_type": "markdown",
   "metadata": {},
   "source": [
    "### Load and clean up data\n",
    "\n",
    "The data was obtained from USGS here: http://earthquake.usgs.gov/earthquakes/search/. It was then run through a PostGIS database to determine the location of the epicenters by state, since USGS does provide specific state locations in its data."
   ]
  },
  {
   "cell_type": "code",
   "execution_count": 2,
   "metadata": {
    "collapsed": false
   },
   "outputs": [
    {
     "data": {
      "text/plain": [
       "999"
      ]
     },
     "execution_count": 2,
     "metadata": {},
     "output_type": "execute_result"
    }
   ],
   "source": [
    "all_quakes = pd.DataFrame.from_csv(\"earthquake_states_lite.csv\", index_col=None, parse_dates=[\"time\", \"updated\"])\n",
    "len(all_quakes)"
   ]
  },
  {
   "cell_type": "code",
   "execution_count": 3,
   "metadata": {
    "collapsed": false
   },
   "outputs": [
    {
     "data": {
      "text/html": [
       "<div>\n",
       "<table border=\"1\" class=\"dataframe\">\n",
       "  <thead>\n",
       "    <tr style=\"text-align: right;\">\n",
       "      <th></th>\n",
       "      <th>time</th>\n",
       "      <th>latitude</th>\n",
       "      <th>longitude</th>\n",
       "      <th>mag</th>\n",
       "      <th>id</th>\n",
       "      <th>updated</th>\n",
       "      <th>place</th>\n",
       "      <th>type</th>\n",
       "      <th>geom</th>\n",
       "      <th>state</th>\n",
       "    </tr>\n",
       "  </thead>\n",
       "  <tbody>\n",
       "    <tr>\n",
       "      <th>0</th>\n",
       "      <td>2014-12-30 05:12:02.710</td>\n",
       "      <td>35.936667</td>\n",
       "      <td>-117.222167</td>\n",
       "      <td>3.47</td>\n",
       "      <td>ci37300152</td>\n",
       "      <td>2015-02-20 02:27:38.024</td>\n",
       "      <td>23km NE of Trona, California</td>\n",
       "      <td>earthquake</td>\n",
       "      <td>0101000020AD100000A9B0ADFA374E5DC04AE0C5B1E4F7...</td>\n",
       "      <td>California</td>\n",
       "    </tr>\n",
       "    <tr>\n",
       "      <th>1</th>\n",
       "      <td>2012-08-27 07:24:12.060</td>\n",
       "      <td>7.853000</td>\n",
       "      <td>-78.214000</td>\n",
       "      <td>4.30</td>\n",
       "      <td>usp000jqve</td>\n",
       "      <td>2014-11-07 01:48:37.813</td>\n",
       "      <td>Panama</td>\n",
       "      <td>earthquake</td>\n",
       "      <td>0101000020AD10000004560E2DB28D53C0B6F3FDD47869...</td>\n",
       "      <td>NaN</td>\n",
       "    </tr>\n",
       "    <tr>\n",
       "      <th>2</th>\n",
       "      <td>2014-12-30 04:13:42.000</td>\n",
       "      <td>12.817000</td>\n",
       "      <td>-88.558000</td>\n",
       "      <td>4.30</td>\n",
       "      <td>usc000tapp</td>\n",
       "      <td>2015-02-20 02:24:36.573</td>\n",
       "      <td>51km S of Puerto El Triunfo, El Salvador</td>\n",
       "      <td>earthquake</td>\n",
       "      <td>0101000020AD100000C0CAA145B62356C0FCA9F1D24DA2...</td>\n",
       "      <td>NaN</td>\n",
       "    </tr>\n",
       "    <tr>\n",
       "      <th>3</th>\n",
       "      <td>2014-12-30 04:08:52.200</td>\n",
       "      <td>14.837000</td>\n",
       "      <td>-93.656000</td>\n",
       "      <td>3.70</td>\n",
       "      <td>usc000te0p</td>\n",
       "      <td>2015-02-07 22:16:57.585</td>\n",
       "      <td>104km SW of Mapastepec, Mexico</td>\n",
       "      <td>earthquake</td>\n",
       "      <td>0101000020AD100000448B6CE7FB6957C0068195438BAC...</td>\n",
       "      <td>NaN</td>\n",
       "    </tr>\n",
       "    <tr>\n",
       "      <th>4</th>\n",
       "      <td>2014-12-29 22:50:55.000</td>\n",
       "      <td>36.754500</td>\n",
       "      <td>-98.177800</td>\n",
       "      <td>3.10</td>\n",
       "      <td>usc000takq</td>\n",
       "      <td>2014-12-30 01:53:36.056</td>\n",
       "      <td>15km E of Cherokee, Oklahoma</td>\n",
       "      <td>earthquake</td>\n",
       "      <td>0101000020AD100000A54E4013618B58C07F6ABC749360...</td>\n",
       "      <td>Oklahoma</td>\n",
       "    </tr>\n",
       "  </tbody>\n",
       "</table>\n",
       "</div>"
      ],
      "text/plain": [
       "                     time   latitude   longitude   mag          id  \\\n",
       "0 2014-12-30 05:12:02.710  35.936667 -117.222167  3.47  ci37300152   \n",
       "1 2012-08-27 07:24:12.060   7.853000  -78.214000  4.30  usp000jqve   \n",
       "2 2014-12-30 04:13:42.000  12.817000  -88.558000  4.30  usc000tapp   \n",
       "3 2014-12-30 04:08:52.200  14.837000  -93.656000  3.70  usc000te0p   \n",
       "4 2014-12-29 22:50:55.000  36.754500  -98.177800  3.10  usc000takq   \n",
       "\n",
       "                  updated                                     place  \\\n",
       "0 2015-02-20 02:27:38.024              23km NE of Trona, California   \n",
       "1 2014-11-07 01:48:37.813                                    Panama   \n",
       "2 2015-02-20 02:24:36.573  51km S of Puerto El Triunfo, El Salvador   \n",
       "3 2015-02-07 22:16:57.585            104km SW of Mapastepec, Mexico   \n",
       "4 2014-12-30 01:53:36.056              15km E of Cherokee, Oklahoma   \n",
       "\n",
       "         type                                               geom       state  \n",
       "0  earthquake  0101000020AD100000A9B0ADFA374E5DC04AE0C5B1E4F7...  California  \n",
       "1  earthquake  0101000020AD10000004560E2DB28D53C0B6F3FDD47869...         NaN  \n",
       "2  earthquake  0101000020AD100000C0CAA145B62356C0FCA9F1D24DA2...         NaN  \n",
       "3  earthquake  0101000020AD100000448B6CE7FB6957C0068195438BAC...         NaN  \n",
       "4  earthquake  0101000020AD100000A54E4013618B58C07F6ABC749360...    Oklahoma  "
      ]
     },
     "execution_count": 3,
     "metadata": {},
     "output_type": "execute_result"
    }
   ],
   "source": [
    "all_quakes.head()"
   ]
  },
  {
   "cell_type": "markdown",
   "metadata": {},
   "source": [
    "Some earthquakes within the U.S. bounding box don't have epicenters outside any state (e.g., the ocean)."
   ]
  },
  {
   "cell_type": "code",
   "execution_count": 4,
   "metadata": {
    "collapsed": false
   },
   "outputs": [
    {
     "data": {
      "text/plain": [
       "485"
      ]
     },
     "execution_count": 4,
     "metadata": {},
     "output_type": "execute_result"
    }
   ],
   "source": [
    "us_quakes = all_quakes.dropna(subset=[\"state\"])\n",
    "len(us_quakes)"
   ]
  },
  {
   "cell_type": "markdown",
   "metadata": {},
   "source": [
    "Count number of earthquakes per state"
   ]
  },
  {
   "cell_type": "code",
   "execution_count": 87,
   "metadata": {
    "collapsed": false
   },
   "outputs": [
    {
     "data": {
      "text/html": [
       "<div>\n",
       "<table border=\"1\" class=\"dataframe\">\n",
       "  <thead>\n",
       "    <tr style=\"text-align: right;\">\n",
       "      <th></th>\n",
       "      <th>state</th>\n",
       "    </tr>\n",
       "  </thead>\n",
       "  <tbody>\n",
       "    <tr>\n",
       "      <th>California</th>\n",
       "      <td>18108</td>\n",
       "    </tr>\n",
       "    <tr>\n",
       "      <th>Alaska</th>\n",
       "      <td>12326</td>\n",
       "    </tr>\n",
       "    <tr>\n",
       "      <th>Nevada</th>\n",
       "      <td>1975</td>\n",
       "    </tr>\n",
       "    <tr>\n",
       "      <th>Idaho</th>\n",
       "      <td>1231</td>\n",
       "    </tr>\n",
       "    <tr>\n",
       "      <th>Washington</th>\n",
       "      <td>973</td>\n",
       "    </tr>\n",
       "  </tbody>\n",
       "</table>\n",
       "</div>"
      ],
      "text/plain": [
       "            state\n",
       "California  18108\n",
       "Alaska      12326\n",
       "Nevada       1975\n",
       "Idaho        1231\n",
       "Washington    973"
      ]
     },
     "execution_count": 87,
     "metadata": {},
     "output_type": "execute_result"
    }
   ],
   "source": [
    "state_counts = pd.DataFrame(us_quakes.state.value_counts())\n",
    "state_counts.head()"
   ]
  },
  {
   "cell_type": "markdown",
   "metadata": {},
   "source": [
    "## Charting Earthquake Activity Over Time, By State"
   ]
  },
  {
   "cell_type": "code",
   "execution_count": 75,
   "metadata": {
    "collapsed": false
   },
   "outputs": [
    {
     "data": {
      "text/plain": [
       "time\n",
       "1974-12-31    1\n",
       "1975-12-31    3\n",
       "1976-12-31    2\n",
       "1977-12-31    0\n",
       "1978-12-31    0\n",
       "Freq: A-DEC, Name: id, dtype: int64"
      ]
     },
     "execution_count": 75,
     "metadata": {},
     "output_type": "execute_result"
    }
   ],
   "source": [
    "data = us_quakes[us_quakes[\"state\"] == \"Oklahoma\"].set_index(\"time\")[\"id\"].resample(\"A\", how=\"count\")\n",
    "data.head()"
   ]
  },
  {
   "cell_type": "code",
   "execution_count": 48,
   "metadata": {
    "collapsed": false
   },
   "outputs": [
    {
     "data": {
      "text/plain": [
       "[<matplotlib.lines.Line2D at 0x110bf7d10>]"
      ]
     },
     "execution_count": 48,
     "metadata": {},
     "output_type": "execute_result"
    }
   ],
   "source": [
    "plt.plot(data)"
   ]
  },
  {
   "cell_type": "code",
   "execution_count": 49,
   "metadata": {
    "collapsed": false
   },
   "outputs": [
    {
     "data": {
      "text/plain": [
       "[<matplotlib.lines.Line2D at 0x113ff4b50>]"
      ]
     },
     "execution_count": 49,
     "metadata": {},
     "output_type": "execute_result"
    }
   ],
   "source": [
    "data = us_quakes[us_quakes[\"state\"] == \"California\"].set_index(\"time\")[\"id\"].resample(\"A\", how=\"count\")\n",
    "plt.plot(data)"
   ]
  },
  {
   "cell_type": "code",
   "execution_count": 50,
   "metadata": {
    "collapsed": false
   },
   "outputs": [
    {
     "data": {
      "text/plain": [
       "[<matplotlib.lines.Line2D at 0x110bf7350>]"
      ]
     },
     "execution_count": 50,
     "metadata": {},
     "output_type": "execute_result"
    }
   ],
   "source": [
    "data = us_quakes[us_quakes[\"state\"] == \"Texas\"].set_index(\"time\")[\"id\"].resample(\"A\", how=\"count\")\n",
    "plt.plot(data)"
   ]
  },
  {
   "cell_type": "code",
   "execution_count": 51,
   "metadata": {
    "collapsed": false
   },
   "outputs": [
    {
     "data": {
      "text/plain": [
       "[<matplotlib.lines.Line2D at 0x114091b90>]"
      ]
     },
     "execution_count": 51,
     "metadata": {},
     "output_type": "execute_result"
    }
   ],
   "source": [
    "data = us_quakes[us_quakes[\"state\"] == \"Kansas\"].set_index(\"time\")[\"id\"].resample(\"A\", how=\"count\")\n",
    "plt.plot(data)"
   ]
  },
  {
   "cell_type": "markdown",
   "metadata": {},
   "source": [
    "## Calculating Percentage Change Decade Over Decade\n",
    "\n",
    "The most recent complete year of earthquakes is 2014. Below, we compare 2005-2014 to the prior decade, 1995-2004."
   ]
  },
  {
   "cell_type": "code",
   "execution_count": 88,
   "metadata": {
    "collapsed": true
   },
   "outputs": [],
   "source": [
    "def quake_percentage_change(state):\n",
    "    by_year = pd.DataFrame(us_quakes[us_quakes[\"state\"] == state].set_index(\"time\")[\"id\"].resample(\"AS\", how=\"count\"))\n",
    "    by_year[\"start\"] = by_year.index\n",
    "    by_year[\"year\"] = by_year[\"start\"].apply(lambda x: int(x[0:4]))\n",
    "    decade_05_14 = by_year[(by_year[\"year\"] >= 2005) & (by_year[\"year\"] <= 2014)]\n",
    "    total_05_14 = decade_05_14[\"count\"].sum()\n",
    "    decade_95_04 = by_year[(by_year[\"year\"] >= 1995) & (by_year[\"year\"] <= 2004)]\n",
    "    total_95_04 = decade_95_04[\"count\"].sum()\n",
    "    if total_95_04 != 0:\n",
    "        pct = round(100.0 * (total_05_14 - total_95_04) / total_95_04, 2)\n",
    "    else:\n",
    "        pct = None\n",
    "    return total_95_04, total_05_14, pct"
   ]
  },
  {
   "cell_type": "code",
   "execution_count": 89,
   "metadata": {
    "collapsed": false
   },
   "outputs": [],
   "source": [
    "state_counts[\"name\"] = state_counts.index\n",
    "state_counts[\"total_95-04\"], state_counts[\"total_05-14\"], state_counts[\"percentage_change\"] =\\\n",
    "    zip(*state_counts[\"name\"].apply(lambda x: quake_percentage_change(x)))"
   ]
  },
  {
   "cell_type": "markdown",
   "metadata": {},
   "source": [
    "States with at least 5 earthquakes from 1995-2004 (sorted by percentage change decade-over-decade):"
   ]
  },
  {
   "cell_type": "code",
   "execution_count": 91,
   "metadata": {
    "collapsed": false
   },
   "outputs": [
    {
     "data": {
      "text/html": [
       "<div>\n",
       "<table border=\"1\" class=\"dataframe\">\n",
       "  <thead>\n",
       "    <tr style=\"text-align: right;\">\n",
       "      <th></th>\n",
       "      <th>state</th>\n",
       "      <th>name</th>\n",
       "      <th>total_95-04</th>\n",
       "      <th>total_05-14</th>\n",
       "      <th>percentage_change</th>\n",
       "    </tr>\n",
       "  </thead>\n",
       "  <tbody>\n",
       "    <tr>\n",
       "      <th>Oklahoma</th>\n",
       "      <td>899</td>\n",
       "      <td>Oklahoma</td>\n",
       "      <td>14</td>\n",
       "      <td>860</td>\n",
       "      <td>6042.86</td>\n",
       "    </tr>\n",
       "    <tr>\n",
       "      <th>Arkansas</th>\n",
       "      <td>147</td>\n",
       "      <td>Arkansas</td>\n",
       "      <td>9</td>\n",
       "      <td>70</td>\n",
       "      <td>677.78</td>\n",
       "    </tr>\n",
       "    <tr>\n",
       "      <th>Kansas</th>\n",
       "      <td>61</td>\n",
       "      <td>Kansas</td>\n",
       "      <td>6</td>\n",
       "      <td>45</td>\n",
       "      <td>650</td>\n",
       "    </tr>\n",
       "    <tr>\n",
       "      <th>Texas</th>\n",
       "      <td>130</td>\n",
       "      <td>Texas</td>\n",
       "      <td>21</td>\n",
       "      <td>74</td>\n",
       "      <td>252.38</td>\n",
       "    </tr>\n",
       "    <tr>\n",
       "      <th>Hawaii</th>\n",
       "      <td>640</td>\n",
       "      <td>Hawaii</td>\n",
       "      <td>72</td>\n",
       "      <td>240</td>\n",
       "      <td>233.33</td>\n",
       "    </tr>\n",
       "    <tr>\n",
       "      <th>Illinois</th>\n",
       "      <td>61</td>\n",
       "      <td>Illinois</td>\n",
       "      <td>5</td>\n",
       "      <td>15</td>\n",
       "      <td>200</td>\n",
       "    </tr>\n",
       "    <tr>\n",
       "      <th>Arizona</th>\n",
       "      <td>174</td>\n",
       "      <td>Arizona</td>\n",
       "      <td>22</td>\n",
       "      <td>65</td>\n",
       "      <td>195.45</td>\n",
       "    </tr>\n",
       "    <tr>\n",
       "      <th>Virginia</th>\n",
       "      <td>28</td>\n",
       "      <td>Virginia</td>\n",
       "      <td>5</td>\n",
       "      <td>13</td>\n",
       "      <td>160</td>\n",
       "    </tr>\n",
       "    <tr>\n",
       "      <th>Colorado</th>\n",
       "      <td>143</td>\n",
       "      <td>Colorado</td>\n",
       "      <td>35</td>\n",
       "      <td>69</td>\n",
       "      <td>97.14</td>\n",
       "    </tr>\n",
       "    <tr>\n",
       "      <th>New Mexico</th>\n",
       "      <td>165</td>\n",
       "      <td>New Mexico</td>\n",
       "      <td>39</td>\n",
       "      <td>57</td>\n",
       "      <td>46.15</td>\n",
       "    </tr>\n",
       "  </tbody>\n",
       "</table>\n",
       "</div>"
      ],
      "text/plain": [
       "            state        name  total_95-04  total_05-14 percentage_change\n",
       "Oklahoma      899    Oklahoma           14          860           6042.86\n",
       "Arkansas      147    Arkansas            9           70            677.78\n",
       "Kansas         61      Kansas            6           45               650\n",
       "Texas         130       Texas           21           74            252.38\n",
       "Hawaii        640      Hawaii           72          240            233.33\n",
       "Illinois       61    Illinois            5           15               200\n",
       "Arizona       174     Arizona           22           65            195.45\n",
       "Virginia       28    Virginia            5           13               160\n",
       "Colorado      143    Colorado           35           69             97.14\n",
       "New Mexico    165  New Mexico           39           57             46.15"
      ]
     },
     "execution_count": 91,
     "metadata": {},
     "output_type": "execute_result"
    }
   ],
   "source": [
    "state_counts[state_counts[\"total_95-04\"] >= 5].sort_values(by=\"percentage_change\", ascending=False).head(10)"
   ]
  },
  {
   "cell_type": "code",
   "execution_count": null,
   "metadata": {
    "collapsed": true
   },
   "outputs": [],
   "source": []
  }
 ],
 "metadata": {
  "kernelspec": {
   "display_name": "Python 2",
   "language": "python",
   "name": "python2"
  },
  "language_info": {
   "codemirror_mode": {
    "name": "ipython",
    "version": 2
   },
   "file_extension": ".py",
   "mimetype": "text/x-python",
   "name": "python",
   "nbconvert_exporter": "python",
   "pygments_lexer": "ipython2",
   "version": "2.7.10"
  }
 },
 "nbformat": 4,
 "nbformat_minor": 0
}
