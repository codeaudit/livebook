{
 "cells": [
  {
   "cell_type": "markdown",
   "metadata": {},
   "source": [
    "## Analyzing State-by-State Changes In Earthquake Frequency\n"
   ]
  },
  {
   "cell_type": "code",
   "execution_count": 1,
   "metadata": {
    "collapsed": true
   },
   "outputs": [],
   "source": [
    "import matplotlib.pyplot as plt\n",
    "import pandas as pd"
   ]
  },
  {
   "cell_type": "markdown",
   "metadata": {},
   "source": [
    "### Load and clean up data\n",
    "\n",
    "The data was obtained from USGS here: http://earthquake.usgs.gov/earthquakes/search/. It was then run through a PostGIS database to determine the location of the epicenters by state, since USGS does provide specific state locations in its data."
   ]
  },
  {
   "cell_type": "code",
   "execution_count": 31,
   "metadata": {
    "collapsed": false
   },
   "outputs": [
    {
     "data": {
      "text/plain": [
       "999"
      ]
     },
     "execution_count": 31,
     "metadata": {},
     "output_type": "execute_result"
    }
   ],
   "source": [
    "all_quakes = pd.DataFrame.from_csv(\"earthquake_states_lite.csv\", index_col=None, parse_dates=[\"time\", \"updated\"])\n",
    "len(all_quakes)"
   ]
  },
  {
   "cell_type": "code",
   "execution_count": 32,
   "metadata": {
    "collapsed": false
   },
   "outputs": [
    {
     "data": {
      "text/html": [
       "<div>\n",
       "<table border=\"1\" class=\"dataframe\">\n",
       "  <thead>\n",
       "    <tr style=\"text-align: right;\">\n",
       "      <th></th>\n",
       "      <th>time</th>\n",
       "      <th>latitude</th>\n",
       "      <th>longitude</th>\n",
       "      <th>mag</th>\n",
       "      <th>id</th>\n",
       "      <th>updated</th>\n",
       "      <th>place</th>\n",
       "      <th>type</th>\n",
       "      <th>geom</th>\n",
       "      <th>state</th>\n",
       "    </tr>\n",
       "  </thead>\n",
       "  <tbody>\n",
       "    <tr>\n",
       "      <th>0</th>\n",
       "      <td>2014-12-30 05:12:02.710</td>\n",
       "      <td>35.936667</td>\n",
       "      <td>-117.222167</td>\n",
       "      <td>3.47</td>\n",
       "      <td>ci37300152</td>\n",
       "      <td>2015-02-20 02:27:38.024</td>\n",
       "      <td>23km NE of Trona, California</td>\n",
       "      <td>earthquake</td>\n",
       "      <td>0101000020AD100000A9B0ADFA374E5DC04AE0C5B1E4F7...</td>\n",
       "      <td>California</td>\n",
       "    </tr>\n",
       "    <tr>\n",
       "      <th>1</th>\n",
       "      <td>2012-08-27 07:24:12.060</td>\n",
       "      <td>7.853000</td>\n",
       "      <td>-78.214000</td>\n",
       "      <td>4.30</td>\n",
       "      <td>usp000jqve</td>\n",
       "      <td>2014-11-07 01:48:37.813</td>\n",
       "      <td>Panama</td>\n",
       "      <td>earthquake</td>\n",
       "      <td>0101000020AD10000004560E2DB28D53C0B6F3FDD47869...</td>\n",
       "      <td>NaN</td>\n",
       "    </tr>\n",
       "    <tr>\n",
       "      <th>2</th>\n",
       "      <td>2014-12-30 04:13:42.000</td>\n",
       "      <td>12.817000</td>\n",
       "      <td>-88.558000</td>\n",
       "      <td>4.30</td>\n",
       "      <td>usc000tapp</td>\n",
       "      <td>2015-02-20 02:24:36.573</td>\n",
       "      <td>51km S of Puerto El Triunfo, El Salvador</td>\n",
       "      <td>earthquake</td>\n",
       "      <td>0101000020AD100000C0CAA145B62356C0FCA9F1D24DA2...</td>\n",
       "      <td>NaN</td>\n",
       "    </tr>\n",
       "    <tr>\n",
       "      <th>3</th>\n",
       "      <td>2014-12-30 04:08:52.200</td>\n",
       "      <td>14.837000</td>\n",
       "      <td>-93.656000</td>\n",
       "      <td>3.70</td>\n",
       "      <td>usc000te0p</td>\n",
       "      <td>2015-02-07 22:16:57.585</td>\n",
       "      <td>104km SW of Mapastepec, Mexico</td>\n",
       "      <td>earthquake</td>\n",
       "      <td>0101000020AD100000448B6CE7FB6957C0068195438BAC...</td>\n",
       "      <td>NaN</td>\n",
       "    </tr>\n",
       "    <tr>\n",
       "      <th>4</th>\n",
       "      <td>2014-12-29 22:50:55.000</td>\n",
       "      <td>36.754500</td>\n",
       "      <td>-98.177800</td>\n",
       "      <td>3.10</td>\n",
       "      <td>usc000takq</td>\n",
       "      <td>2014-12-30 01:53:36.056</td>\n",
       "      <td>15km E of Cherokee, Oklahoma</td>\n",
       "      <td>earthquake</td>\n",
       "      <td>0101000020AD100000A54E4013618B58C07F6ABC749360...</td>\n",
       "      <td>Oklahoma</td>\n",
       "    </tr>\n",
       "  </tbody>\n",
       "</table>\n",
       "</div>"
      ],
      "text/plain": [
       "                     time   latitude   longitude   mag          id  \\\n",
       "0 2014-12-30 05:12:02.710  35.936667 -117.222167  3.47  ci37300152   \n",
       "1 2012-08-27 07:24:12.060   7.853000  -78.214000  4.30  usp000jqve   \n",
       "2 2014-12-30 04:13:42.000  12.817000  -88.558000  4.30  usc000tapp   \n",
       "3 2014-12-30 04:08:52.200  14.837000  -93.656000  3.70  usc000te0p   \n",
       "4 2014-12-29 22:50:55.000  36.754500  -98.177800  3.10  usc000takq   \n",
       "\n",
       "                  updated                                     place  \\\n",
       "0 2015-02-20 02:27:38.024              23km NE of Trona, California   \n",
       "1 2014-11-07 01:48:37.813                                    Panama   \n",
       "2 2015-02-20 02:24:36.573  51km S of Puerto El Triunfo, El Salvador   \n",
       "3 2015-02-07 22:16:57.585            104km SW of Mapastepec, Mexico   \n",
       "4 2014-12-30 01:53:36.056              15km E of Cherokee, Oklahoma   \n",
       "\n",
       "         type                                               geom       state  \n",
       "0  earthquake  0101000020AD100000A9B0ADFA374E5DC04AE0C5B1E4F7...  California  \n",
       "1  earthquake  0101000020AD10000004560E2DB28D53C0B6F3FDD47869...         NaN  \n",
       "2  earthquake  0101000020AD100000C0CAA145B62356C0FCA9F1D24DA2...         NaN  \n",
       "3  earthquake  0101000020AD100000448B6CE7FB6957C0068195438BAC...         NaN  \n",
       "4  earthquake  0101000020AD100000A54E4013618B58C07F6ABC749360...    Oklahoma  "
      ]
     },
     "execution_count": 32,
     "metadata": {},
     "output_type": "execute_result"
    }
   ],
   "source": [
    "all_quakes.head()"
   ]
  },
  {
   "cell_type": "markdown",
   "metadata": {},
   "source": [
    "Some earthquakes within the U.S. bounding box don't have epicenters outside any state (e.g., the ocean)."
   ]
  },
  {
   "cell_type": "markdown",
   "metadata": {},
   "source": [
    "DOC:  If dropna() implementation is right, this should produce 485"
   ]
  },
  {
   "cell_type": "code",
   "execution_count": 34,
   "metadata": {
    "collapsed": false
   },
   "outputs": [
    {
     "data": {
      "text/plain": [
       "485"
      ]
     },
     "execution_count": 34,
     "metadata": {},
     "output_type": "execute_result"
    }
   ],
   "source": [
    "us_quakes = all_quakes.dropna(subset=[\"state\"])\n",
    "len(us_quakes)"
   ]
  },
  {
   "cell_type": "code",
   "execution_count": 35,
   "metadata": {
    "collapsed": false
   },
   "outputs": [
    {
     "data": {
      "text/plain": [
       "Oklahoma          184\n",
       "Nevada            114\n",
       "Alaska             91\n",
       "California         38\n",
       "Kansas             14\n",
       "Colorado            8\n",
       "Idaho               8\n",
       "Montana             7\n",
       "Arizona             4\n",
       "Hawaii              4\n",
       "Utah                2\n",
       "Oregon              2\n",
       "Alabama             2\n",
       "New Mexico          2\n",
       "Texas               2\n",
       "North Carolina      1\n",
       "Wyoming             1\n",
       "Maine               1\n",
       "Name: state, dtype: int64"
      ]
     },
     "execution_count": 35,
     "metadata": {},
     "output_type": "execute_result"
    }
   ],
   "source": [
    "state_counts = us_quakes.state.value_counts()\n",
    "state_counts"
   ]
  },
  {
   "cell_type": "markdown",
   "metadata": {},
   "source": [
    "## Charting Earthquake Activity Over Time, By State"
   ]
  },
  {
   "cell_type": "code",
   "execution_count": 36,
   "metadata": {
    "collapsed": false
   },
   "outputs": [
    {
     "ename": "ValueError",
     "evalue": "No axis named Oklahoma for object type <class 'pandas.core.frame.DataFrame'>",
     "output_type": "error",
     "traceback": [
      "\u001b[0;31m---------------------------------------------------------------------------\u001b[0m",
      "\u001b[0;31mValueError\u001b[0m                                Traceback (most recent call last)",
      "\u001b[0;32m<ipython-input-36-28e599fd1f6c>\u001b[0m in \u001b[0;36m<module>\u001b[0;34m()\u001b[0m\n\u001b[0;32m----> 1\u001b[0;31m \u001b[0mdata\u001b[0m \u001b[0;34m=\u001b[0m \u001b[0mus_quakes\u001b[0m\u001b[0;34m.\u001b[0m\u001b[0mselect\u001b[0m\u001b[0;34m(\u001b[0m\u001b[0;34m\"state\"\u001b[0m\u001b[0;34m,\u001b[0m \u001b[0;34m\"Oklahoma\"\u001b[0m\u001b[0;34m)\u001b[0m\u001b[0;34m.\u001b[0m\u001b[0mset_index\u001b[0m\u001b[0;34m(\u001b[0m\u001b[0;34m\"time\"\u001b[0m\u001b[0;34m)\u001b[0m\u001b[0;34m[\u001b[0m\u001b[0;34m\"mag\"\u001b[0m\u001b[0;34m]\u001b[0m\u001b[0;34m.\u001b[0m\u001b[0mresample\u001b[0m\u001b[0;34m(\u001b[0m\u001b[0;34m\"A\"\u001b[0m\u001b[0;34m,\u001b[0m \u001b[0mhow\u001b[0m\u001b[0;34m=\u001b[0m\u001b[0;34m\"count\"\u001b[0m\u001b[0;34m)\u001b[0m\u001b[0;34m\u001b[0m\u001b[0m\n\u001b[0m\u001b[1;32m      2\u001b[0m \u001b[0mdata\u001b[0m\u001b[0;34m.\u001b[0m\u001b[0mhead\u001b[0m\u001b[0;34m(\u001b[0m\u001b[0;34m)\u001b[0m\u001b[0;34m\u001b[0m\u001b[0m\n",
      "\u001b[0;32m/usr/local/lib/python2.7/site-packages/pandas/core/generic.pyc\u001b[0m in \u001b[0;36mselect\u001b[0;34m(self, crit, axis)\u001b[0m\n\u001b[1;32m   1539\u001b[0m         \u001b[0mselection\u001b[0m \u001b[0;34m:\u001b[0m \u001b[0mtype\u001b[0m \u001b[0mof\u001b[0m \u001b[0mcaller\u001b[0m\u001b[0;34m\u001b[0m\u001b[0m\n\u001b[1;32m   1540\u001b[0m         \"\"\"\n\u001b[0;32m-> 1541\u001b[0;31m         \u001b[0maxis\u001b[0m \u001b[0;34m=\u001b[0m \u001b[0mself\u001b[0m\u001b[0;34m.\u001b[0m\u001b[0m_get_axis_number\u001b[0m\u001b[0;34m(\u001b[0m\u001b[0maxis\u001b[0m\u001b[0;34m)\u001b[0m\u001b[0;34m\u001b[0m\u001b[0m\n\u001b[0m\u001b[1;32m   1542\u001b[0m         \u001b[0maxis_name\u001b[0m \u001b[0;34m=\u001b[0m \u001b[0mself\u001b[0m\u001b[0;34m.\u001b[0m\u001b[0m_get_axis_name\u001b[0m\u001b[0;34m(\u001b[0m\u001b[0maxis\u001b[0m\u001b[0;34m)\u001b[0m\u001b[0;34m\u001b[0m\u001b[0m\n\u001b[1;32m   1543\u001b[0m         \u001b[0maxis_values\u001b[0m \u001b[0;34m=\u001b[0m \u001b[0mself\u001b[0m\u001b[0;34m.\u001b[0m\u001b[0m_get_axis\u001b[0m\u001b[0;34m(\u001b[0m\u001b[0maxis\u001b[0m\u001b[0;34m)\u001b[0m\u001b[0;34m\u001b[0m\u001b[0m\n",
      "\u001b[0;32m/usr/local/lib/python2.7/site-packages/pandas/core/generic.pyc\u001b[0m in \u001b[0;36m_get_axis_number\u001b[0;34m(self, axis)\u001b[0m\n\u001b[1;32m    312\u001b[0m                 \u001b[0;32mpass\u001b[0m\u001b[0;34m\u001b[0m\u001b[0m\n\u001b[1;32m    313\u001b[0m         raise ValueError('No axis named {0} for object type {1}'\n\u001b[0;32m--> 314\u001b[0;31m                          .format(axis, type(self)))\n\u001b[0m\u001b[1;32m    315\u001b[0m \u001b[0;34m\u001b[0m\u001b[0m\n\u001b[1;32m    316\u001b[0m     \u001b[0;32mdef\u001b[0m \u001b[0m_get_axis_name\u001b[0m\u001b[0;34m(\u001b[0m\u001b[0mself\u001b[0m\u001b[0;34m,\u001b[0m \u001b[0maxis\u001b[0m\u001b[0;34m)\u001b[0m\u001b[0;34m:\u001b[0m\u001b[0;34m\u001b[0m\u001b[0m\n",
      "\u001b[0;31mValueError\u001b[0m: No axis named Oklahoma for object type <class 'pandas.core.frame.DataFrame'>"
     ]
    }
   ],
   "source": [
    "data = us_quakes.select(\"state\", \"Oklahoma\").set_index(\"time\")[\"mag\"].resample(\"A\", how=\"count\")\n",
    "data.head()"
   ]
  },
  {
   "cell_type": "code",
   "execution_count": 37,
   "metadata": {
    "collapsed": true
   },
   "outputs": [],
   "source": []
  },
  {
   "cell_type": "code",
   "execution_count": null,
   "metadata": {
    "collapsed": true
   },
   "outputs": [],
   "source": []
  }
 ],
 "metadata": {
  "kernelspec": {
   "display_name": "Python 2",
   "language": "python",
   "name": "python2"
  },
  "language_info": {
   "codemirror_mode": {
    "name": "ipython",
    "version": 2
   },
   "file_extension": ".py",
   "mimetype": "text/x-python",
   "name": "python",
   "nbconvert_exporter": "python",
   "pygments_lexer": "ipython2",
   "version": "2.7.10"
  }
 },
 "nbformat": 4,
 "nbformat_minor": 0
}
